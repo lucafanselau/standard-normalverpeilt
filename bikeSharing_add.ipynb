{
 "cells": [
  {
   "cell_type": "markdown",
   "metadata": {},
   "source": [
    "# Chicago Bike Sharing Exploration"
   ]
  },
  {
   "cell_type": "markdown",
   "metadata": {},
   "source": [
    "## Set-up"
   ]
  },
  {
   "cell_type": "markdown",
   "metadata": {},
   "source": [
    "First we import the required libraries."
   ]
  },
  {
   "cell_type": "code",
   "execution_count": null,
   "metadata": {},
   "outputs": [],
   "source": [
    "import numpy as np\n",
    "import pandas as pd\n",
    "import matplotlib.pyplot as plt\n",
    "import seaborn as sns\n",
    "from datetime import datetime\n",
    "from datetime import timedelta"
   ]
  },
  {
   "cell_type": "markdown",
   "metadata": {},
   "source": [
    "Then we read in the dataset of the Chicago bike-sharing company of the year 2018."
   ]
  },
  {
   "cell_type": "code",
   "execution_count": null,
   "metadata": {},
   "outputs": [],
   "source": [
    "data_messy = pd.read_csv(\"chicago_2018.csv\")"
   ]
  },
  {
   "cell_type": "markdown",
   "metadata": {},
   "source": [
    "## Some first insights"
   ]
  },
  {
   "cell_type": "markdown",
   "metadata": {},
   "source": [
    "I want to see some first samples:"
   ]
  },
  {
   "cell_type": "code",
   "execution_count": null,
   "metadata": {},
   "outputs": [],
   "source": [
    "data_messy.head(5)"
   ]
  },
  {
   "cell_type": "markdown",
   "metadata": {},
   "source": [
    "Now I am interested into how many observations there are within the dataset."
   ]
  },
  {
   "cell_type": "code",
   "execution_count": null,
   "metadata": {},
   "outputs": [],
   "source": [
    "data_messy.count()"
   ]
  },
  {
   "cell_type": "markdown",
   "metadata": {},
   "source": [
    "I want to know the time of the first and last measurement."
   ]
  },
  {
   "cell_type": "code",
   "execution_count": null,
   "metadata": {},
   "outputs": [],
   "source": [
    "min = data_messy[\"start_time\"].min()\n",
    "max = data_messy[\"end_time\"].max()\n",
    "\n",
    "print(\"The measurements took place from\", min, \"until\", max + \".\")"
   ]
  },
  {
   "cell_type": "markdown",
   "metadata": {},
   "source": [
    "How many *start* and *end* stations are there?"
   ]
  },
  {
   "cell_type": "code",
   "execution_count": null,
   "metadata": {},
   "outputs": [],
   "source": [
    "start_stations = list(data_messy[\"start_station_id\"].unique())\n",
    "end_stations = list(data_messy[\"end_station_id\"].unique())\n",
    "print(\"There are\", len(start_stations), \"start stations, and\", len(end_stations), \"end stations\")"
   ]
  },
  {
   "cell_type": "markdown",
   "metadata": {},
   "source": [
    "Thus there are 2 more start stations than end stations. This might be because there are stations,\n",
    "* in which you can only rent a bike; not return\n",
    "* which have multiple IDs\n",
    "* which are only for maintenance purposes\n",
    "\n",
    "Or because\n",
    "* start station IDs and end station IDs are completely uncoupled and one of the reasons above"
   ]
  },
  {
   "cell_type": "markdown",
   "metadata": {},
   "source": [
    "I was wondering how big the fleet is:"
   ]
  },
  {
   "cell_type": "code",
   "execution_count": null,
   "metadata": {},
   "outputs": [],
   "source": [
    "def getTime(str):\n",
    "    return datetime.strptime(str, '%Y-%m-%d %H:%M:%S')"
   ]
  },
  {
   "cell_type": "code",
   "execution_count": null,
   "metadata": {},
   "outputs": [],
   "source": [
    "num_bikes = len(list(data_messy[\"bike_id\"].unique()))\n",
    "\n",
    "print(\"The fleet consists of\", num_bikes, \"bikes.\")"
   ]
  },
  {
   "cell_type": "markdown",
   "metadata": {},
   "source": [
    "What is the ratio of subscribed users as compared to all users in 2018?"
   ]
  },
  {
   "cell_type": "code",
   "execution_count": null,
   "metadata": {},
   "outputs": [],
   "source": [
    "num_subs = len(data_messy[data_messy[\"user_type\"] == \"Subscriber\"])\n",
    "num_tot = len(data_messy)\n",
    "\n",
    "print(round((num_subs / num_tot * 100), 2), \"% of users are actual subscribers\")"
   ]
  },
  {
   "cell_type": "markdown",
   "metadata": {},
   "source": [
    "Check for null values."
   ]
  },
  {
   "cell_type": "code",
   "execution_count": null,
   "metadata": {},
   "outputs": [],
   "source": [
    "data_messy[data_messy[\"user_type\"].isnull()]"
   ]
  },
  {
   "cell_type": "markdown",
   "metadata": {},
   "source": [
    "Seemingly no null values in the dataset."
   ]
  },
  {
   "cell_type": "markdown",
   "metadata": {},
   "source": [
    "Engineering a new feature \"duration\":"
   ]
  },
  {
   "cell_type": "code",
   "execution_count": null,
   "metadata": {},
   "outputs": [],
   "source": [
    "data_messy[\"duration\"] = (pd.to_datetime(data_messy[\"end_time\"]) - pd.to_datetime(data_messy[\"start_time\"]))"
   ]
  },
  {
   "cell_type": "code",
   "execution_count": null,
   "metadata": {},
   "outputs": [],
   "source": [
    "data_messy.head()"
   ]
  },
  {
   "cell_type": "code",
   "execution_count": null,
   "metadata": {},
   "outputs": [],
   "source": [
    "data_messy[\"duration\"].sort_values().head(10)"
   ]
  },
  {
   "cell_type": "markdown",
   "metadata": {},
   "source": [
    "7 subsequent observations have a negative duration. Looking at the dates, it becomes obvious, that the underlying reason is the time change:"
   ]
  },
  {
   "cell_type": "code",
   "execution_count": null,
   "metadata": {},
   "outputs": [],
   "source": [
    "data_messy.loc[2946878, \"start_time\"]"
   ]
  },
  {
   "cell_type": "code",
   "execution_count": null,
   "metadata": {},
   "outputs": [],
   "source": [
    "data_messy.loc[2946878, \"end_time\"]"
   ]
  },
  {
   "cell_type": "markdown",
   "metadata": {},
   "source": [
    "You can find information about the **negative** time change (summer to winter time on the 4th of November 2018: 2 PM to 1 PM) [here](https://www.timeanddate.de/stadt/zeitumstellung/usa/chicago).\n",
    "\n",
    "It may be necessary to adjust values for the other **positive** time change (winter to summer on the 11th of May 2018: 2 PM to 3 PM)."
   ]
  },
  {
   "cell_type": "markdown",
   "metadata": {},
   "source": [
    "How high is the maximum and minimum utilization of the fleet?\n",
    "\n",
    "First I need to define a function which converts the string into a datetime format.\n",
    "\n",
    "Depending on your machine, the following operations might take a while. Eventually it will terminate..."
   ]
  },
  {
   "cell_type": "code",
   "execution_count": null,
   "metadata": {
    "scrolled": true
   },
   "outputs": [],
   "source": [
    "time_bike = np.empty(6500)\n",
    "\n",
    "for index, row in data_messy.iterrows():\n",
    "    time_bike[row[\"bike_id\"]] = time_bike[row[\"bike_id\"]] + ((getTime(row[\"end_time\"]) - getTime(row[\"start_time\"])).total_seconds() / 3600)"
   ]
  },
  {
   "cell_type": "code",
   "execution_count": null,
   "metadata": {
    "scrolled": true
   },
   "outputs": [],
   "source": [
    "time_bike_series = pd.DataFrame(time_bike, columns = [\"Utilization\"])"
   ]
  },
  {
   "cell_type": "code",
   "execution_count": null,
   "metadata": {
    "scrolled": true
   },
   "outputs": [],
   "source": [
    "time_bike_series.describe()"
   ]
  },
  {
   "cell_type": "code",
   "execution_count": null,
   "metadata": {},
   "outputs": [],
   "source": [
    "time_bike_series.dropna(inplace = True)"
   ]
  },
  {
   "cell_type": "code",
   "execution_count": null,
   "metadata": {},
   "outputs": [],
   "source": [
    "time_bike_series.tail()"
   ]
  },
  {
   "cell_type": "code",
   "execution_count": null,
   "metadata": {},
   "outputs": [],
   "source": [
    "time_bike_series.describe()"
   ]
  },
  {
   "cell_type": "code",
   "execution_count": null,
   "metadata": {},
   "outputs": [],
   "source": [
    "f, axes = plt.subplots(1, sharey=True, figsize=(15, 15))\n",
    "\n",
    "sns.boxplot(data = time_bike_series, palette = \"magma\")\n",
    "plt.show()"
   ]
  },
  {
   "cell_type": "markdown",
   "metadata": {},
   "source": [
    "Which bike was used the most?"
   ]
  },
  {
   "cell_type": "code",
   "execution_count": null,
   "metadata": {},
   "outputs": [],
   "source": [
    "time_bike_series[time_bike_series[\"Utilization\"] >= 4000]"
   ]
  },
  {
   "cell_type": "markdown",
   "metadata": {},
   "source": [
    "Average utilization: (The average utilization will be way higher as there are also alot of null values included in this aggregation)"
   ]
  },
  {
   "cell_type": "code",
   "execution_count": null,
   "metadata": {},
   "outputs": [],
   "source": [
    "av_ut = float((time_bike_series.mean() / (24 * 365))*100)\n",
    "\n",
    "print(\"The average utilization is:\", av_ut, \"%\")"
   ]
  },
  {
   "cell_type": "markdown",
   "metadata": {},
   "source": [
    "Which stations are used the most?"
   ]
  },
  {
   "cell_type": "code",
   "execution_count": null,
   "metadata": {},
   "outputs": [],
   "source": [
    "sns.countplot(x = \"start_station_id\", data = data_messy)\n",
    "plt.show()"
   ]
  },
  {
   "cell_type": "markdown",
   "metadata": {},
   "source": [
    "Which station is used the most?"
   ]
  },
  {
   "cell_type": "code",
   "execution_count": null,
   "metadata": {},
   "outputs": [],
   "source": [
    "station_mostused = data_messy[\"start_station_id\"].value_counts().idxmax()\n",
    "print(\"The most used start station is the station with id\", station_mostused)"
   ]
  },
  {
   "cell_type": "markdown",
   "metadata": {},
   "source": [
    "# An attempt to visualize the most used stations geographically"
   ]
  },
  {
   "cell_type": "markdown",
   "metadata": {},
   "source": [
    "First I import a dataset that I found on the [internet](https://data.cityofchicago.org/Transportation/Divvy-Bicycle-Stations-In-Service/67g3-8ig8) to describe the position (long, lat) of the stations."
   ]
  },
  {
   "cell_type": "code",
   "execution_count": null,
   "metadata": {},
   "outputs": [],
   "source": [
    "data_stations = pd.read_csv(\"Divvy_Bicycle_Stations_-_In_Service.csv\")"
   ]
  },
  {
   "cell_type": "code",
   "execution_count": null,
   "metadata": {},
   "outputs": [],
   "source": [
    "data_stations.head(10)"
   ]
  },
  {
   "cell_type": "markdown",
   "metadata": {},
   "source": [
    "Joining (merging) the initial dataset with the dataset, which contains the coordinates for the stations on the column 'start_station_id', respectively 'ID'"
   ]
  },
  {
   "cell_type": "code",
   "execution_count": null,
   "metadata": {},
   "outputs": [],
   "source": [
    "merged_data = pd.merge(data_messy, data_stations, left_on = \"start_station_id\", right_on = \"ID\")"
   ]
  },
  {
   "cell_type": "code",
   "execution_count": null,
   "metadata": {},
   "outputs": [],
   "source": [
    "merged_data.head(3)"
   ]
  },
  {
   "cell_type": "markdown",
   "metadata": {},
   "source": [
    "Adding a new column \"Coordinates\" because the location, lat' and long' variables cannot be simply plotted by folium."
   ]
  },
  {
   "cell_type": "code",
   "execution_count": null,
   "metadata": {},
   "outputs": [],
   "source": [
    "merged_data[\"Coordinates\"] = list(zip(merged_data[\"Latitude\"].round(4), merged_data[\"Longitude\"].round(4)))"
   ]
  },
  {
   "cell_type": "code",
   "execution_count": null,
   "metadata": {
    "scrolled": true
   },
   "outputs": [],
   "source": [
    "merged_data.head(3)"
   ]
  },
  {
   "cell_type": "markdown",
   "metadata": {},
   "source": [
    "## Importing the relevant libraries:"
   ]
  },
  {
   "cell_type": "code",
   "execution_count": null,
   "metadata": {},
   "outputs": [],
   "source": [
    "from pandas.plotting import register_matplotlib_converters\n",
    "sns.set()\n",
    "sns.set_style(\"white\")\n",
    "sns.set_palette(\"GnBu_d\")\n",
    "\n",
    "import folium\n",
    "from folium import plugins\n",
    "from folium.plugins import HeatMap\n",
    "from datetime import datetime #for working with times objects\n",
    "from datetime import timedelta #for working with times objects\n",
    "import math\n",
    "import random\n",
    "import timeit"
   ]
  },
  {
   "cell_type": "markdown",
   "metadata": {},
   "source": [
    "# First visualization attempts"
   ]
  },
  {
   "cell_type": "markdown",
   "metadata": {},
   "source": [
    "I will select a random bike for showing the locations to avoid overplotting and to avoid performance issues"
   ]
  },
  {
   "cell_type": "code",
   "execution_count": null,
   "metadata": {},
   "outputs": [],
   "source": [
    "list_bikes = data_messy[\"bike_id\"].unique()\n",
    "random_bike = random.choice(list_bikes)\n",
    "print(random_bike)"
   ]
  },
  {
   "cell_type": "code",
   "execution_count": null,
   "metadata": {
    "scrolled": true
   },
   "outputs": [],
   "source": [
    "heat_map = folium.Map(location=(41.8695, -87.6555), tiles='OpenStreetMap', zoom_start=9, control_scale=True, max_zoom=20)\n",
    "\n",
    "heat_map.add_child(plugins.HeatMap(merged_data[merged_data[\"bike_id\"] == random_bike][\"Coordinates\"], radius = 15))\n",
    "\n",
    "heat_map"
   ]
  },
  {
   "cell_type": "markdown",
   "metadata": {},
   "source": [
    "Sclicing the dataframe in order to be able to assign the correct popup to the markers"
   ]
  },
  {
   "cell_type": "code",
   "execution_count": null,
   "metadata": {},
   "outputs": [],
   "source": [
    "station_location = merged_data[['start_station_id', 'Latitude', 'Longitude']].copy()\n",
    "station_location = station_location.drop_duplicates(subset = [\"start_station_id\"])\n",
    "station_location.head(10)"
   ]
  },
  {
   "cell_type": "code",
   "execution_count": null,
   "metadata": {},
   "outputs": [],
   "source": [
    "heat_map = folium.Map(location=(41.8695, -87.6555), tiles='OpenStreetMap', zoom_start=9, control_scale=True, max_zoom=20)\n",
    "\n",
    "heat_map.add_child(plugins.HeatMap(merged_data[merged_data[\"bike_id\"] == random_bike][\"Coordinates\"], radius = 15))\n",
    "\n",
    "for indice, row in station_location.iterrows():\n",
    "    folium.CircleMarker(\n",
    "        radius = 1,\n",
    "        location=[row[\"Latitude\"], row[\"Longitude\"]],\n",
    "        popup=row['start_station_id'],\n",
    "        color='crimson', \n",
    "        fill_color='crimson'\n",
    "    ).add_to(heat_map)\n",
    "  \n",
    "heat_map"
   ]
  },
  {
   "cell_type": "markdown",
   "metadata": {},
   "source": [
    "Plotting the density of used bikestations for bikes with an id lower than 1000 (because plotting this for all bikes would just not terminate)"
   ]
  },
  {
   "cell_type": "code",
   "execution_count": null,
   "metadata": {
    "scrolled": true
   },
   "outputs": [],
   "source": [
    "heat_map = folium.Map(location=(41.8695, -87.6555), tiles='OpenStreetMap', zoom_start=9, control_scale=True, max_zoom=20)\n",
    "\n",
    "heat_map.add_child(plugins.HeatMap(merged_data[merged_data[\"bike_id\"] < 1000][\"Coordinates\"], radius = 15))\n",
    "\n",
    "heat_map"
   ]
  },
  {
   "cell_type": "markdown",
   "metadata": {},
   "source": [
    "Adding a column 'end_hour' to the dataframe, in order to be able to easily access only the hour from the 'end_time' timestamp"
   ]
  },
  {
   "cell_type": "code",
   "execution_count": null,
   "metadata": {},
   "outputs": [],
   "source": [
    "merged_data['end_time'] = pd.to_datetime(merged_data['end_time'])\n",
    "merged_data[\"end_hour\"] = list(merged_data[\"end_time\"].dt.hour)\n",
    "merged_data.head()"
   ]
  },
  {
   "cell_type": "markdown",
   "metadata": {},
   "source": [
    "Now taking all rows with an end time between 6am and 10am and assigning it to a new dataframe "
   ]
  },
  {
   "cell_type": "code",
   "execution_count": null,
   "metadata": {},
   "outputs": [],
   "source": [
    "morning_stations = merged_data[(merged_data[\"end_hour\"]<=9) & (merged_data[\"end_hour\"] >= 6)]\n",
    "morning_stations.head()"
   ]
  },
  {
   "cell_type": "markdown",
   "metadata": {},
   "source": [
    "Now taking all rows with an end time between 4pm and 7pm and assigning it to a new dataframe "
   ]
  },
  {
   "cell_type": "code",
   "execution_count": null,
   "metadata": {},
   "outputs": [],
   "source": [
    "evening_stations = merged_data[(merged_data[\"end_hour\"]<=18) & (merged_data[\"end_hour\"] >= 16)]\n",
    "evening_stations.head()"
   ]
  },
  {
   "cell_type": "markdown",
   "metadata": {},
   "source": [
    "Now we are able to **map all the stations, where people frequently drive to in the morning hours**. These stations will probably be in close proximity to common workplaces"
   ]
  },
  {
   "cell_type": "code",
   "execution_count": null,
   "metadata": {},
   "outputs": [],
   "source": [
    "heat_map = folium.Map(location=(41.8695, -87.6555), tiles='OpenStreetMap', zoom_start=9, control_scale=True, max_zoom=20)\n",
    "\n",
    "heat_map.add_child(plugins.HeatMap(morning_stations[morning_stations[\"bike_id\"]==random_bike][\"Coordinates\"], radius = 15))\n",
    "\n",
    "for indice, row in station_location.iterrows():\n",
    "    folium.CircleMarker(\n",
    "        radius = 1,\n",
    "        location=[row[\"Latitude\"], row[\"Longitude\"]],\n",
    "        popup=row['start_station_id'],\n",
    "        color='crimson', \n",
    "        fill_color='crimson'\n",
    "    ).add_to(heat_map)\n",
    "\n",
    "heat_map"
   ]
  },
  {
   "cell_type": "markdown",
   "metadata": {},
   "source": [
    "It seems that there is a clear aggregation of trips to the **central station** in the **morning hours**"
   ]
  },
  {
   "cell_type": "markdown",
   "metadata": {},
   "source": [
    "Now we do the same for the **evening hours** , i.e. the end stations people drive to after work"
   ]
  },
  {
   "cell_type": "code",
   "execution_count": null,
   "metadata": {},
   "outputs": [],
   "source": [
    "heat_map = folium.Map(location=(41.8695, -87.6555), tiles='OpenStreetMap', zoom_start=9, control_scale=True, max_zoom=20)\n",
    "\n",
    "heat_map.add_child(plugins.HeatMap(evening_stations[evening_stations[\"bike_id\"]==random_bike][\"Coordinates\"], radius = 15))\n",
    "\n",
    "for indice, row in station_location.iterrows():\n",
    "    folium.CircleMarker(\n",
    "        radius = 1,\n",
    "        location=[row[\"Latitude\"], row[\"Longitude\"]],\n",
    "        popup=row['start_station_id'],\n",
    "        color='crimson', \n",
    "        fill_color='crimson'\n",
    "    ).add_to(heat_map)\n",
    "\n",
    "heat_map"
   ]
  },
  {
   "cell_type": "markdown",
   "metadata": {},
   "source": [
    "Now it is harder to identify a clear direction to where trips are typically going"
   ]
  },
  {
   "cell_type": "markdown",
   "metadata": {},
   "source": [
    "We now try to identify the movement of the selected bike. We therefore draw the stations and trajectories."
   ]
  },
  {
   "cell_type": "code",
   "execution_count": null,
   "metadata": {},
   "outputs": [],
   "source": [
    "heat_map = folium.Map(location=(41.8695, -87.6555), tiles='OpenStreetMap', zoom_start=9, control_scale=True, max_zoom=20)\n",
    "\n",
    "merged_data_select = merged_data[merged_data[\"bike_id\"]==random_bike]\n",
    "\n",
    "heat_map.add_child(plugins.HeatMap(merged_data[merged_data[\"bike_id\"] == random_bike][\"Coordinates\"], radius = 15))\n",
    "\n",
    "for indice, row in station_location.iterrows():\n",
    "    folium.CircleMarker(\n",
    "        radius = 1,\n",
    "        location=[row[\"Latitude\"], row[\"Longitude\"]],\n",
    "        popup=row['start_station_id'],\n",
    "        color='crimson', \n",
    "        fill_color='crimson'\n",
    "    ).add_to(heat_map)\n",
    "\n",
    "folium.PolyLine(merged_data_select[\"Coordinates\"],color=\"blue\", weight=2, opacity=0.8, ).add_to(heat_map)\n",
    "    \n",
    "heat_map"
   ]
  },
  {
   "cell_type": "markdown",
   "metadata": {},
   "source": [
    "# Geographical Findings"
   ]
  },
  {
   "cell_type": "markdown",
   "metadata": {},
   "source": [
    "## Communities with most Divvy Bikes traffic\n",
    "\n",
    "![test](Chicago_community_areas_map.svg.png)\n",
    "\n",
    "* all of Center"
   ]
  },
  {
   "cell_type": "markdown",
   "metadata": {},
   "source": [
    "## Locations / POI with most traffic\n",
    "\n",
    "In some zoom-scales (and the given radius) one can identify the following highly used stations:\n",
    "\n",
    "* [Ogilvie Transportation Center](https://en.wikipedia.org/wiki/Ogilvie_Transportation_Center)\n",
    "* [Chicago Union Station](https://en.wikipedia.org/wiki/Chicago_Union_Station)\n",
    "* Jane Addams Memorial, see [googlemaps](https://www.google.de/maps/place/Divvy/@41.8922479,-87.6121172,88m/data=!3m1!1e3!4m13!1m7!3m6!1s0x880e2c3cd0f4cbed:0xafe0a6ad09c0c000!2sChicago,+IL,+USA!3b1!8m2!3d41.8781136!4d-87.6297982!3m4!1s0x880e2b53a71cd513:0xd04bc26796dcb054!8m2!3d41.892278!4d-87.612043) for position\n"
   ]
  },
  {
   "cell_type": "markdown",
   "metadata": {},
   "source": [
    "# Attempt to take POI into consideration\n",
    "\n",
    "The list of POI was found on [Wikipedia](https://en.wikipedia.org/wiki/List_of_Chicago_Landmarks) and can be downloaded under this [Link](https://tools.wmflabs.org/kmlexport?article=List_of_Chicago_Landmarks).\n",
    "\n",
    "I had to reformat the file manually because of some issues that caused the file to not be read in properly by pandas."
   ]
  },
  {
   "cell_type": "code",
   "execution_count": null,
   "metadata": {},
   "outputs": [],
   "source": [
    "POI_data = pd.read_csv(\"convertcsvtest.csv\")"
   ]
  },
  {
   "cell_type": "code",
   "execution_count": null,
   "metadata": {},
   "outputs": [],
   "source": [
    "POI_data.head()"
   ]
  },
  {
   "cell_type": "code",
   "execution_count": null,
   "metadata": {},
   "outputs": [],
   "source": [
    "POI_data.info()"
   ]
  },
  {
   "cell_type": "code",
   "execution_count": null,
   "metadata": {},
   "outputs": [],
   "source": [
    "POI_data.head()"
   ]
  },
  {
   "cell_type": "code",
   "execution_count": null,
   "metadata": {},
   "outputs": [],
   "source": [
    "POI_data[\"Coordinates\"] = list(zip(POI_data[\"long\"].round(4), POI_data[\"lat\"].round(4)))"
   ]
  },
  {
   "cell_type": "code",
   "execution_count": null,
   "metadata": {},
   "outputs": [],
   "source": [
    "POI_data.count()"
   ]
  },
  {
   "cell_type": "code",
   "execution_count": null,
   "metadata": {},
   "outputs": [],
   "source": [
    "POI_data.head()"
   ]
  },
  {
   "cell_type": "code",
   "execution_count": null,
   "metadata": {},
   "outputs": [],
   "source": [
    "heat_map = folium.Map(location=(41.8695, -87.6555), tiles='OpenStreetMap', zoom_start=9, control_scale=True, max_zoom=20)\n",
    "\n",
    "heat_map.add_child(plugins.HeatMap(merged_data[merged_data[\"bike_id\"] < 1000][\"Coordinates\"], radius = 15))\n",
    "\n",
    "positions = list(POI_data[\"Coordinates\"])\n",
    "for position in positions:\n",
    "    folium.CircleMarker(radius=1, location=position, popup='The Waterfront', \n",
    "                                 color='crimson', fill_color='crimson').add_to(heat_map)\n",
    "\n",
    "heat_map"
   ]
  },
  {
   "cell_type": "markdown",
   "metadata": {},
   "source": [
    "It seems that those POI's correspond nicely to the density of used stations."
   ]
  },
  {
   "cell_type": "markdown",
   "metadata": {},
   "source": [
    "## Finding out which stations are most popular"
   ]
  },
  {
   "cell_type": "code",
   "execution_count": null,
   "metadata": {},
   "outputs": [],
   "source": [
    "data_stations.head()"
   ]
  },
  {
   "cell_type": "code",
   "execution_count": null,
   "metadata": {},
   "outputs": [],
   "source": [
    "data_stations.info()"
   ]
  },
  {
   "cell_type": "code",
   "execution_count": null,
   "metadata": {},
   "outputs": [],
   "source": [
    "data_stations.loc[2, \"ID\"]"
   ]
  },
  {
   "cell_type": "code",
   "execution_count": null,
   "metadata": {},
   "outputs": [],
   "source": [
    "for i in range(693):\n",
    "    data_stations.loc[i, \"Usage\"] = len(merged_data[merged_data[\"start_station_id\"] == data_stations.loc[i, \"ID\"]])"
   ]
  },
  {
   "cell_type": "code",
   "execution_count": null,
   "metadata": {},
   "outputs": [],
   "source": [
    "data_stations[\"Coordinates\"] = list(zip(data_stations[\"Latitude\"].round(4), data_stations[\"Longitude\"].round(4)))"
   ]
  },
  {
   "cell_type": "code",
   "execution_count": null,
   "metadata": {},
   "outputs": [],
   "source": [
    "data_stations.head()"
   ]
  },
  {
   "cell_type": "code",
   "execution_count": null,
   "metadata": {},
   "outputs": [],
   "source": [
    "data_stations[\"Usage\"].describe()"
   ]
  },
  {
   "cell_type": "code",
   "execution_count": null,
   "metadata": {},
   "outputs": [],
   "source": [
    "sns.displot(data = data_stations[\"Usage\"] , kde=True)\n",
    "\n",
    "plt.show()"
   ]
  },
  {
   "cell_type": "markdown",
   "metadata": {},
   "source": [
    "As expected a poisson-like distribution with a wide base of rather unpopular stations and a tiny share of extremely popular stations."
   ]
  },
  {
   "cell_type": "code",
   "execution_count": null,
   "metadata": {},
   "outputs": [],
   "source": [
    "len(data_messy[\"start_station_id\"].unique())"
   ]
  },
  {
   "cell_type": "markdown",
   "metadata": {},
   "source": [
    "In the following I attempt to plot the tops (reddish) and flops (blue) of stations in terms of popularity on a map."
   ]
  },
  {
   "cell_type": "code",
   "execution_count": null,
   "metadata": {},
   "outputs": [],
   "source": [
    "topTwy = data_stations[data_stations[\"ID\"] <= 621].sort_values(\"Usage\").tail(100)\n",
    "lowTwy = data_stations[data_stations[\"ID\"] <= 621].sort_values(\"Usage\").head(100)"
   ]
  },
  {
   "cell_type": "code",
   "execution_count": null,
   "metadata": {},
   "outputs": [],
   "source": [
    "topTwy[\"Popular\"] = \"crimson\"\n",
    "lowTwy[\"Popular\"] = \"blue\"\n",
    "\n",
    "topLowTwy = [topTwy, lowTwy]\n",
    "topLowTwy = pd.concat(topLowTwy)\n",
    "topLowTwy"
   ]
  },
  {
   "cell_type": "code",
   "execution_count": null,
   "metadata": {},
   "outputs": [],
   "source": [
    "heat_map = folium.Map(location=(41.8695, -87.6555), tiles='OpenStreetMap', zoom_start=9, control_scale=True, max_zoom=20)\n",
    "\n",
    "for i in range(len(topLowTwy)):\n",
    "    folium.CircleMarker(radius=1, location = topLowTwy.iloc[i][\"Coordinates\"], \n",
    "                                 color=topLowTwy.iloc[i][\"Popular\"], popup = topLowTwy.iloc[i][\"ID\"], fill_color='crimson').add_to(heat_map)\n",
    "\n",
    "heat_map"
   ]
  },
  {
   "cell_type": "markdown",
   "metadata": {},
   "source": [
    "As popular and unpopular stations nicely discriminate geographically, I'm interested as to how the entirety of stations would be ordered. "
   ]
  },
  {
   "cell_type": "code",
   "execution_count": null,
   "metadata": {},
   "outputs": [],
   "source": [
    "data_stations = data_stations[data_stations[\"ID\"] < 621].sort_values(\"Usage\")\n",
    "\n",
    "g1 = data_stations[data_stations[\"Usage\"] < 1000]\n",
    "g2 = data_stations[(data_stations[\"Usage\"] >= 1000) & (data_stations[\"Usage\"] < 10000)]\n",
    "g3 = data_stations[data_stations[\"Usage\"] >= 10000]\n",
    "                   \n",
    "g1[\"Color\"] = \"green\"\n",
    "g2[\"Color\"] = \"yellow\"\n",
    "g3[\"Color\"] = \"red\"\n",
    "\n",
    "stat = [g1, g2, g3]\n",
    "stat = pd.concat(stat)\n",
    "stat"
   ]
  },
  {
   "cell_type": "code",
   "execution_count": null,
   "metadata": {},
   "outputs": [],
   "source": [
    "heat_map = folium.Map(location=(41.8695, -87.6555), tiles='OpenStreetMap', zoom_start=9, control_scale=True, max_zoom=20)\n",
    "\n",
    "for i in range(len(stat)):\n",
    "    folium.CircleMarker(radius=2, location = stat.iloc[i][\"Coordinates\"], \n",
    "                                 color=stat.iloc[i][\"Color\"], fill_color='crimson',\n",
    "                                   popup = stat.iloc[i][\"Usage\"]).add_to(heat_map)\n",
    "\n",
    "heat_map"
   ]
  },
  {
   "cell_type": "markdown",
   "metadata": {},
   "source": [
    "### Sights:\n",
    "\n",
    "* University of Chicago (in an area of unpopular stations, you can easily find the station as it is a red marker in a bunch of yellow markers in the south)"
   ]
  },
  {
   "cell_type": "code",
   "execution_count": null,
   "metadata": {},
   "outputs": [],
   "source": [
    "data_messy[data_messy[\"start_station_id\"] == 542].sort_values(\"start_time\")"
   ]
  },
  {
   "cell_type": "code",
   "execution_count": null,
   "metadata": {},
   "outputs": [],
   "source": [
    "stat[stat[\"ID\"] == 542][\"Usage\"]"
   ]
  },
  {
   "cell_type": "markdown",
   "metadata": {},
   "source": [
    "### Finding out when new stations were established"
   ]
  },
  {
   "cell_type": "code",
   "execution_count": null,
   "metadata": {},
   "outputs": [],
   "source": [
    "data_messy[data_messy[\"start_station_id\"] == 345][\"start_time\"].min()"
   ]
  },
  {
   "cell_type": "code",
   "execution_count": null,
   "metadata": {},
   "outputs": [],
   "source": [
    "def getFirstDate(ID):\n",
    "    return getTime(data_messy[data_messy[\"start_station_id\"] == ID][\"start_time\"].min())"
   ]
  },
  {
   "cell_type": "code",
   "execution_count": null,
   "metadata": {},
   "outputs": [],
   "source": [
    "getFirstDate(562)"
   ]
  },
  {
   "cell_type": "code",
   "execution_count": null,
   "metadata": {},
   "outputs": [],
   "source": [
    "data_stations[\"First Use\"] = data_stations[\"ID\"].apply(lambda x: getFirstDate(x))"
   ]
  },
  {
   "cell_type": "code",
   "execution_count": null,
   "metadata": {},
   "outputs": [],
   "source": [
    "data_stations.head()"
   ]
  },
  {
   "cell_type": "code",
   "execution_count": null,
   "metadata": {},
   "outputs": [],
   "source": [
    "cutDate1 = pd.to_datetime(\"1st of February, 2018\")\n",
    "cutDate2 = pd.to_datetime(\"1st of May, 2018\")"
   ]
  },
  {
   "cell_type": "code",
   "execution_count": null,
   "metadata": {},
   "outputs": [],
   "source": [
    "data_stations.iloc[34][\"First Use\"] < cutDate1"
   ]
  },
  {
   "cell_type": "code",
   "execution_count": null,
   "metadata": {},
   "outputs": [],
   "source": [
    "def categorize(x, a, b):\n",
    "    if data_stations.iloc[x][\"First Use\"] < a:\n",
    "        return \"green\"\n",
    "    elif ((data_stations.iloc[x][\"First Use\"] >= a) & (data_stations.iloc[x][\"First Use\"] < b)):\n",
    "        return \"yellow\"\n",
    "    elif data_stations.iloc[x][\"First Use\"] > b:\n",
    "        return \"red\""
   ]
  },
  {
   "cell_type": "code",
   "execution_count": null,
   "metadata": {},
   "outputs": [],
   "source": [
    "cutDate1 > cutDate2"
   ]
  },
  {
   "cell_type": "code",
   "execution_count": null,
   "metadata": {},
   "outputs": [],
   "source": [
    "heat_map = folium.Map(location=(41.8695, -87.6555), tiles='OpenStreetMap', zoom_start=9, control_scale=True, max_zoom=20)\n",
    "\n",
    "for i in range(len(data_stations)):\n",
    "    folium.CircleMarker(radius=2, location = data_stations.iloc[i][\"Coordinates\"], \n",
    "                                 color=categorize(i, cutDate1, cutDate2), fill_color='crimson',\n",
    "                                   popup = data_stations.iloc[i][\"Usage\"]).add_to(heat_map)\n",
    "\n",
    "heat_map"
   ]
  },
  {
   "cell_type": "markdown",
   "metadata": {},
   "source": [
    "As there is a substancial amount of unpopular stations (i.e. being used less than 100 times in a year, some even less than 30), I was wondering what reason there might be. The establishment of new stations seems like a plausible idea.\n",
    "\n",
    "Thus I plotted all stations in a color that encodes the time of year in which the station was used first (in this period of a year).\n",
    "\n",
    "* green: station was used in January for the first time\n",
    "* yellow: station was used in February for the first time\n",
    "* red: station was used only after the begin of March\n",
    "\n",
    "With the red stations being low in number this hypothisis is to be rejected. Also it is possible that even those are old stations which just haven't been used in the cold season."
   ]
  },
  {
   "cell_type": "markdown",
   "metadata": {},
   "source": [
    "## Considering auto traffic"
   ]
  },
  {
   "cell_type": "markdown",
   "metadata": {},
   "source": [
    "Again some data I found on the [internet](https://www.chicago.gov/city/en/depts/cdot/dataset/average_daily_trafficcounts.html)\n",
    "\n",
    "### Average Daily Traffic\n",
    "\n",
    "Average Daily Traffic refers to the number of vehicles traveling through a particular point on the city streets in a 24-hour period. Average Daily Traffic (ADT) counts are analogous to a census count of vehicles on city streets. These counts provide a close approximation to the actual number of vehicles passing through a given location on an average weekday."
   ]
  },
  {
   "cell_type": "code",
   "execution_count": null,
   "metadata": {},
   "outputs": [],
   "source": [
    "traffic = pd.read_csv(\"Average_Daily_Traffic_Counts.csv\", sep = \",\")"
   ]
  },
  {
   "cell_type": "code",
   "execution_count": null,
   "metadata": {},
   "outputs": [],
   "source": [
    "traffic[\"Coordinates\"] = list(zip(traffic[\"Latitude\"].round(4), traffic[\"Longitude\"].round(4)))"
   ]
  },
  {
   "cell_type": "code",
   "execution_count": null,
   "metadata": {},
   "outputs": [],
   "source": [
    "traffic.head()"
   ]
  },
  {
   "cell_type": "code",
   "execution_count": null,
   "metadata": {},
   "outputs": [],
   "source": [
    "heat_map = folium.Map(location=(41.8695, -87.6555), tiles='OpenStreetMap', zoom_start=10, control_scale=True, max_zoom=20)\n",
    "\n",
    "# heat_map.add_child(plugins.HeatMap(merged_data[merged_data[\"bike_id\"] < 1000][\"Coordinates\"], radius = 25))\n",
    "\n",
    "for i in range(0,len(traffic)):\n",
    "   folium.Circle(\n",
    "      location=[traffic.iloc[i]['Latitude'], traffic.iloc[i]['Longitude']],\n",
    "      #popup=traffic.iloc[i]['Traffic Volume Count Location Address'],\n",
    "      radius=float(traffic.iloc[i]['Total Passing Vehicle Volume'])*0.005,\n",
    "      color='crimson',\n",
    "      fill=True,\n",
    "      fill_color='crimson'\n",
    "   ).add_to(heat_map)\n",
    "\n",
    "heat_map"
   ]
  },
  {
   "cell_type": "code",
   "execution_count": null,
   "metadata": {},
   "outputs": [],
   "source": []
  }
 ],
 "metadata": {
  "kernelspec": {
   "display_name": "Python 3",
   "language": "python",
   "name": "python3"
  },
  "language_info": {
   "codemirror_mode": {
    "name": "ipython",
    "version": 3
   },
   "file_extension": ".py",
   "mimetype": "text/x-python",
   "name": "python",
   "nbconvert_exporter": "python",
   "pygments_lexer": "ipython3",
   "version": "3.9.1"
  }
 },
 "nbformat": 4,
 "nbformat_minor": 4
}
