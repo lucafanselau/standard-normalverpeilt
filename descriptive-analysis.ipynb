{
 "cells": [
  {
   "cell_type": "markdown",
   "id": "503d9e5c-4d95-4357-8c5d-25bbd82613a8",
   "metadata": {
    "tags": []
   },
   "source": [
    "# Descriptive Analysis\n",
    "\n",
    "This file contains the descriptive analysis of the given dataset (Chicago 2018). We will analyze temporal and geographical demand patterns, as well as defining Key Performance Indicators (KPIs)"
   ]
  },
  {
   "cell_type": "code",
   "execution_count": 11,
   "id": "5798dcdb-28c0-4636-9b90-55a7186af283",
   "metadata": {},
   "outputs": [],
   "source": [
    "# General Imports for the whole file\n",
    "import pandas as pd\n",
    "import numpy as np\n",
    "import matplotlib.pyplot as plt\n",
    "import seaborn as sns\n",
    "from datetime import timedelta"
   ]
  },
  {
   "cell_type": "markdown",
   "id": "fce48858-d505-414d-9367-bbc86443267c",
   "metadata": {},
   "source": [
    "## Data Loading\n",
    "Load the given dataset into pandas"
   ]
  },
  {
   "cell_type": "code",
   "execution_count": 7,
   "id": "acc03793-b0bd-4209-9090-87394f2c7d59",
   "metadata": {},
   "outputs": [],
   "source": [
    "bike_df = pd.read_csv('data/chicago_2018.csv')\n",
    "weather = pd.read_csv('data/weather_hourly_chicago.csv')"
   ]
  },
  {
   "cell_type": "markdown",
   "id": "bda85cb1-b193-45b6-ab02-af25d1ae2b4d",
   "metadata": {},
   "source": [
    "## Temporal Demand Patterns\n"
   ]
  }
 ],
 "metadata": {
  "kernelspec": {
   "display_name": "Python 3",
   "language": "python",
   "name": "python3"
  },
  "language_info": {
   "codemirror_mode": {
    "name": "ipython",
    "version": 3
   },
   "file_extension": ".py",
   "mimetype": "text/x-python",
   "name": "python",
   "nbconvert_exporter": "python",
   "pygments_lexer": "ipython3",
   "version": "3.9.1"
  }
 },
 "nbformat": 4,
 "nbformat_minor": 5
}
