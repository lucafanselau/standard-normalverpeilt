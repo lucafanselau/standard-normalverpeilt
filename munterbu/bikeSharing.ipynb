{
 "cells": [
  {
   "cell_type": "markdown",
   "metadata": {},
   "source": [
    "# Chicago Bike Sharing Exploration"
   ]
  },
  {
   "cell_type": "markdown",
   "metadata": {},
   "source": [
    "## Set-up"
   ]
  },
  {
   "cell_type": "markdown",
   "metadata": {},
   "source": [
    "First we import the required libraries."
   ]
  },
  {
   "cell_type": "code",
   "execution_count": null,
   "metadata": {},
   "outputs": [],
   "source": [
    "import numpy as np\n",
    "import pandas as pd\n",
    "import matplotlib.pyplot as plt\n",
    "import seaborn as sns\n",
    "from datetime import datetime\n",
    "from datetime import timedelta"
   ]
  },
  {
   "cell_type": "markdown",
   "metadata": {},
   "source": [
    "Then we read in the dataset of the Chicago bike-sharing company of the year 2018."
   ]
  },
  {
   "cell_type": "code",
   "execution_count": null,
   "metadata": {},
   "outputs": [],
   "source": [
    "data_messy = pd.read_csv(\"chicago_2018.csv\")"
   ]
  },
  {
   "cell_type": "markdown",
   "metadata": {},
   "source": [
    "## Some first insights"
   ]
  },
  {
   "cell_type": "markdown",
   "metadata": {},
   "source": [
    "I want to see some first samples:"
   ]
  },
  {
   "cell_type": "code",
   "execution_count": null,
   "metadata": {},
   "outputs": [],
   "source": [
    "data_messy.head(5)"
   ]
  },
  {
   "cell_type": "markdown",
   "metadata": {},
   "source": [
    "Now I am interested into how many observations there are within the dataset."
   ]
  },
  {
   "cell_type": "code",
   "execution_count": null,
   "metadata": {},
   "outputs": [],
   "source": [
    "data_messy.count()"
   ]
  },
  {
   "cell_type": "markdown",
   "metadata": {},
   "source": [
    "I want to know the time of the first and last measurement."
   ]
  },
  {
   "cell_type": "code",
   "execution_count": null,
   "metadata": {},
   "outputs": [],
   "source": [
    "min = data_messy[\"start_time\"].min()\n",
    "max = data_messy[\"end_time\"].max()\n",
    "\n",
    "print(\"The measurements took place from\", min, \"until\", max + \".\")"
   ]
  },
  {
   "cell_type": "markdown",
   "metadata": {},
   "source": [
    "How many *start* and *end* stations are there?"
   ]
  },
  {
   "cell_type": "code",
   "execution_count": null,
   "metadata": {},
   "outputs": [],
   "source": [
    "start_stations = list(data_messy[\"start_station_id\"].unique())\n",
    "end_stations = list(data_messy[\"end_station_id\"].unique())\n",
    "print(\"There are\", len(start_stations), \"start stations, and\", len(end_stations), \"end stations\")"
   ]
  },
  {
   "cell_type": "markdown",
   "metadata": {},
   "source": [
    "Thus there are 2 more start stations than end stations. This might be because there are stations,\n",
    "* in which you can only rent a bike; not return\n",
    "* which have multiple IDs\n",
    "\n",
    "Or because\n",
    "* start station IDs and end station IDs are completely uncoupled and one of the reasons above"
   ]
  },
  {
   "cell_type": "markdown",
   "metadata": {},
   "source": [
    "I was wondering how big the fleet is:"
   ]
  },
  {
   "cell_type": "code",
   "execution_count": null,
   "metadata": {},
   "outputs": [],
   "source": [
    "def getTime(str):\n",
    "    return datetime.strptime(str, '%Y-%m-%d %H:%M:%S')"
   ]
  },
  {
   "cell_type": "code",
   "execution_count": null,
   "metadata": {},
   "outputs": [],
   "source": [
    "num_bikes = len(list(data_messy[\"bike_id\"].unique()))\n",
    "\n",
    "print(\"The fleet consists of\", num_bikes, \"bikes.\")"
   ]
  },
  {
   "cell_type": "markdown",
   "metadata": {},
   "source": [
    "What is the ratio of subscribed users as compared to all users in 2018?"
   ]
  },
  {
   "cell_type": "code",
   "execution_count": null,
   "metadata": {},
   "outputs": [],
   "source": [
    "num_subs = len(data_messy[data_messy[\"user_type\"] == \"Subscriber\"])\n",
    "num_tot = len(data_messy)\n",
    "\n",
    "print(round((num_subs / num_tot * 100), 2), \"% of users are actual subscribers\")"
   ]
  },
  {
   "cell_type": "markdown",
   "metadata": {},
   "source": [
    "Check for null values."
   ]
  },
  {
   "cell_type": "code",
   "execution_count": null,
   "metadata": {},
   "outputs": [],
   "source": [
    "data_messy[data_messy[\"user_type\"].isnull()]"
   ]
  },
  {
   "cell_type": "markdown",
   "metadata": {},
   "source": [
    "Engineering a new feature \"duration\":"
   ]
  },
  {
   "cell_type": "code",
   "execution_count": null,
   "metadata": {},
   "outputs": [],
   "source": [
    "data_messy[\"duration\"] = (pd.to_datetime(data_messy[\"end_time\"]) - pd.to_datetime(data_messy[\"start_time\"]))"
   ]
  },
  {
   "cell_type": "code",
   "execution_count": null,
   "metadata": {},
   "outputs": [],
   "source": [
    "data_messy.head()"
   ]
  },
  {
   "cell_type": "code",
   "execution_count": null,
   "metadata": {},
   "outputs": [],
   "source": [
    "data_messy[\"duration\"].sort_values().head(10)"
   ]
  },
  {
   "cell_type": "markdown",
   "metadata": {},
   "source": [
    "7 subsequent observations have a negative duration. Looking at the dates, it becomes obvious, that the underlying reason is the time change:"
   ]
  },
  {
   "cell_type": "code",
   "execution_count": null,
   "metadata": {},
   "outputs": [],
   "source": [
    "data_messy.loc[2946878, \"start_time\"]"
   ]
  },
  {
   "cell_type": "code",
   "execution_count": null,
   "metadata": {},
   "outputs": [],
   "source": [
    "data_messy.loc[2946878, \"end_time\"]"
   ]
  },
  {
   "cell_type": "markdown",
   "metadata": {},
   "source": [
    "You can find information about the **negative** time change (summer to winter time on the 4th of November 2018: 2 PM to 1 PM) [here](https://www.timeanddate.de/stadt/zeitumstellung/usa/chicago).\n",
    "\n",
    "It may be necessary to adjust values for the other **positive** time change (winter to summer on the 11th of May 2018: 2 PM to 3 PM)."
   ]
  },
  {
   "cell_type": "markdown",
   "metadata": {},
   "source": [
    "How high is the maximum and minimum utilization of the fleet?"
   ]
  },
  {
   "cell_type": "markdown",
   "metadata": {},
   "source": [
    "First I need to define a function which converts the string into a datetime format."
   ]
  },
  {
   "cell_type": "code",
   "execution_count": null,
   "metadata": {
    "scrolled": true
   },
   "outputs": [],
   "source": [
    "time_bike = np.zeros(6500)\n",
    "\n",
    "for index, row in data_messy.iterrows():\n",
    "    time_bike[row[\"bike_id\"]] = time_bike[row[\"bike_id\"]] + ((getTime(row[\"end_time\"]) - getTime(row[\"start_time\"])).total_seconds() / 3600)"
   ]
  },
  {
   "cell_type": "code",
   "execution_count": null,
   "metadata": {
    "scrolled": true
   },
   "outputs": [],
   "source": [
    "time_bike_series = pd.DataFrame(time_bike)"
   ]
  },
  {
   "cell_type": "code",
   "execution_count": null,
   "metadata": {
    "scrolled": true
   },
   "outputs": [],
   "source": [
    "time_bike_series.describe()"
   ]
  },
  {
   "cell_type": "code",
   "execution_count": null,
   "metadata": {},
   "outputs": [],
   "source": [
    "sns.boxplot(data = time_bike_series, palette = \"magma\")\n",
    "plt.show()"
   ]
  },
  {
   "cell_type": "markdown",
   "metadata": {},
   "source": [
    "Which bike was used the most?"
   ]
  },
  {
   "cell_type": "code",
   "execution_count": null,
   "metadata": {},
   "outputs": [],
   "source": [
    "time_bike_series[time_bike_series[0] >= 4000]"
   ]
  },
  {
   "cell_type": "markdown",
   "metadata": {},
   "source": [
    "Average utilization: (The average utilization will be way higher as there are also alot of null values included in this aggregation)"
   ]
  },
  {
   "cell_type": "code",
   "execution_count": null,
   "metadata": {},
   "outputs": [],
   "source": [
    "av_ut = float((time_bike_series.mean() / (24 * 365))*100)\n",
    "\n",
    "print(\"The average utilization is:\", av_ut, \"%\")"
   ]
  },
  {
   "cell_type": "markdown",
   "metadata": {},
   "source": [
    "Which stations are used the most?"
   ]
  },
  {
   "cell_type": "code",
   "execution_count": null,
   "metadata": {},
   "outputs": [],
   "source": [
    "sns.countplot(x = \"start_station_id\", data = data_messy)\n",
    "plt.show()"
   ]
  },
  {
   "cell_type": "markdown",
   "metadata": {},
   "source": [
    "# An attempt to visualize the most used stations geographically"
   ]
  },
  {
   "cell_type": "markdown",
   "metadata": {},
   "source": [
    "First I import a dataset that I found on the [internet](https://data.cityofchicago.org/Transportation/Divvy-Bicycle-Stations-In-Service/67g3-8ig8) to describe the position (long, lat) of the stations."
   ]
  },
  {
   "cell_type": "code",
   "execution_count": null,
   "metadata": {},
   "outputs": [],
   "source": [
    "data_stations = pd.read_csv(\"Divvy_Bicycle_Stations_-_In_Service.csv\")"
   ]
  },
  {
   "cell_type": "code",
   "execution_count": null,
   "metadata": {},
   "outputs": [],
   "source": [
    "data_stations.head(10)"
   ]
  },
  {
   "cell_type": "markdown",
   "metadata": {},
   "source": [
    "Joining (merging) the initial dataset with the dataset, which contains the coordinates for the stations on the column 'start_station_id', respectively 'ID'"
   ]
  },
  {
   "cell_type": "code",
   "execution_count": null,
   "metadata": {},
   "outputs": [],
   "source": [
    "merged_data = pd.merge(data_messy, data_stations, left_on = \"start_station_id\", right_on = \"ID\")"
   ]
  },
  {
   "cell_type": "code",
   "execution_count": null,
   "metadata": {},
   "outputs": [],
   "source": [
    "merged_data.head(3)"
   ]
  },
  {
   "cell_type": "markdown",
   "metadata": {},
   "source": [
    "Adding a new column \"Coordinates\" because the location, lat' and long' variables cannot be simply plotted by folium."
   ]
  },
  {
   "cell_type": "code",
   "execution_count": null,
   "metadata": {},
   "outputs": [],
   "source": [
    "merged_data[\"Coordinates\"] = list(zip(merged_data[\"Latitude\"].round(4), merged_data[\"Longitude\"].round(4)))"
   ]
  },
  {
   "cell_type": "code",
   "execution_count": null,
   "metadata": {
    "scrolled": true
   },
   "outputs": [],
   "source": [
    "merged_data.head(3)"
   ]
  },
  {
   "cell_type": "markdown",
   "metadata": {},
   "source": [
    "## Importing the relevant libraries:"
   ]
  },
  {
   "cell_type": "code",
   "execution_count": null,
   "metadata": {},
   "outputs": [],
   "source": [
    "from pandas.plotting import register_matplotlib_converters\n",
    "sns.set()\n",
    "sns.set_style(\"white\")\n",
    "sns.set_palette(\"GnBu_d\")\n",
    "\n",
    "import folium\n",
    "from folium import plugins\n",
    "from folium.plugins import HeatMap\n",
    "from datetime import datetime #for working with times objects\n",
    "from datetime import timedelta #for working with times objects\n",
    "import math\n",
    "import random\n",
    "import timeit"
   ]
  },
  {
   "cell_type": "markdown",
   "metadata": {},
   "source": [
    "# First visualization attempts"
   ]
  },
  {
   "cell_type": "markdown",
   "metadata": {},
   "source": [
    "I will select a random bike for showing the locations to avoid overplotting"
   ]
  },
  {
   "cell_type": "code",
   "execution_count": null,
   "metadata": {},
   "outputs": [],
   "source": [
    "list_bikes = data_messy[\"bike_id\"].unique()\n",
    "random_bike = random.choice(list_bikes)\n",
    "print(random_bike)"
   ]
  },
  {
   "cell_type": "code",
   "execution_count": null,
   "metadata": {
    "scrolled": true
   },
   "outputs": [],
   "source": [
    "heat_map = folium.Map(location=(41.8695, -87.6555), tiles='OpenStreetMap', zoom_start=9, control_scale=True, max_zoom=20)\n",
    "\n",
    "heat_map.add_child(plugins.HeatMap(merged_data[merged_data[\"bike_id\"] == random_bike][\"Coordinates\"], radius = 15))\n",
    "\n",
    "heat_map"
   ]
  },
  {
   "cell_type": "code",
   "execution_count": null,
   "metadata": {},
   "outputs": [],
   "source": [
    "heat_map = folium.Map(location=(41.8695, -87.6555), tiles='OpenStreetMap', zoom_start=9, control_scale=True, max_zoom=20)\n",
    "\n",
    "heat_map.add_child(plugins.HeatMap(merged_data[merged_data[\"bike_id\"] == random_bike][\"Coordinates\"], radius = 15))\n",
    "\n",
    "positions = list(merged_data[\"Coordinates\"].unique())\n",
    "for position in positions:\n",
    "    folium.RegularPolygonMarker(radius=1, location=position, popup='The Waterfront', \n",
    "                                 color='crimson', fill_color='crimson').add_to(heat_map)\n",
    "\n",
    "heat_map"
   ]
  },
  {
   "cell_type": "markdown",
   "metadata": {},
   "source": [
    "Plotting the density of used bikestations for bikes with an id lower than 500 (because plotting this for all bikes would just not terminate)"
   ]
  },
  {
   "cell_type": "code",
   "execution_count": null,
   "metadata": {},
   "outputs": [],
   "source": [
    "heat_map"
   ]
  },
  {
   "cell_type": "code",
   "execution_count": null,
   "metadata": {
    "scrolled": true
   },
   "outputs": [],
   "source": [
    "heat_map = folium.Map(location=(41.8695, -87.6555), tiles='OpenStreetMap', zoom_start=9, control_scale=True, max_zoom=20)\n",
    "\n",
    "heat_map.add_child(plugins.HeatMap(merged_data[merged_data[\"bike_id\"] < 1000][\"Coordinates\"], radius = 15))\n",
    "\n",
    "heat_map"
   ]
  },
  {
   "cell_type": "markdown",
   "metadata": {},
   "source": [
    "# Geographical Findings"
   ]
  },
  {
   "cell_type": "markdown",
   "metadata": {},
   "source": [
    "## Communities with most Divvy Bikes traffic\n",
    "\n",
    "![test](Chicago_community_areas_map.svg.png)\n",
    "\n",
    "* all of Center"
   ]
  },
  {
   "cell_type": "markdown",
   "metadata": {},
   "source": [
    "## Locations / POI with most traffic\n",
    "\n",
    "In some zoom-scales (and the given radius) one can identify the following highly used stations:\n",
    "\n",
    "* [Ogilvie Transportation Center](https://en.wikipedia.org/wiki/Ogilvie_Transportation_Center)\n",
    "* [Chicago Union Station](https://en.wikipedia.org/wiki/Chicago_Union_Station)\n",
    "* Jane Addams Memorial, see [googlemaps](https://www.google.de/maps/place/Divvy/@41.8922479,-87.6121172,88m/data=!3m1!1e3!4m13!1m7!3m6!1s0x880e2c3cd0f4cbed:0xafe0a6ad09c0c000!2sChicago,+IL,+USA!3b1!8m2!3d41.8781136!4d-87.6297982!3m4!1s0x880e2b53a71cd513:0xd04bc26796dcb054!8m2!3d41.892278!4d-87.612043) for position\n"
   ]
  },
  {
   "cell_type": "markdown",
   "metadata": {},
   "source": [
    "# Attempt to take POI into consideration\n",
    "\n",
    "The list of POI was found on [Wikipedia](https://en.wikipedia.org/wiki/List_of_Chicago_Landmarks) and can be downloaded under this [Link](https://tools.wmflabs.org/kmlexport?article=List_of_Chicago_Landmarks)."
   ]
  },
  {
   "cell_type": "code",
   "execution_count": null,
   "metadata": {},
   "outputs": [],
   "source": [
    "POI_data = pd.read_csv(\"convertcsvtest.csv\")"
   ]
  },
  {
   "cell_type": "code",
   "execution_count": null,
   "metadata": {},
   "outputs": [],
   "source": [
    "POI_data.head()"
   ]
  },
  {
   "cell_type": "code",
   "execution_count": null,
   "metadata": {},
   "outputs": [],
   "source": [
    "POI_data.info()"
   ]
  },
  {
   "cell_type": "code",
   "execution_count": null,
   "metadata": {},
   "outputs": [],
   "source": [
    "POI_data.head()"
   ]
  },
  {
   "cell_type": "code",
   "execution_count": null,
   "metadata": {},
   "outputs": [],
   "source": [
    "POI_data[\"Coordinates\"] = list(zip(POI_data[\"long\"].round(4), POI_data[\"lat\"].round(4)))"
   ]
  },
  {
   "cell_type": "code",
   "execution_count": null,
   "metadata": {},
   "outputs": [],
   "source": [
    "POI_data.count()"
   ]
  },
  {
   "cell_type": "code",
   "execution_count": null,
   "metadata": {},
   "outputs": [],
   "source": [
    "heat_map = folium.Map(location=(41.8695, -87.6555), tiles='OpenStreetMap', zoom_start=9, control_scale=True, max_zoom=20)\n",
    "\n",
    "heat_map.add_child(plugins.HeatMap(merged_data[merged_data[\"bike_id\"] < 1000][\"Coordinates\"], radius = 15))\n",
    "\n",
    "positions = list(POI_data[\"Coordinates\"])\n",
    "for position in positions:\n",
    "    folium.CircleMarker(radius=1, location=position, popup='The Waterfront', \n",
    "                                 color='crimson', fill_color='crimson').add_to(heat_map)\n",
    "\n",
    "heat_map"
   ]
  },
  {
   "cell_type": "markdown",
   "metadata": {},
   "source": [
    "## Finding out which stations are used the most."
   ]
  },
  {
   "cell_type": "code",
   "execution_count": null,
   "metadata": {},
   "outputs": [],
   "source": [
    "data_stations.head()"
   ]
  },
  {
   "cell_type": "code",
   "execution_count": null,
   "metadata": {},
   "outputs": [],
   "source": [
    "data_stations.info()"
   ]
  },
  {
   "cell_type": "code",
   "execution_count": null,
   "metadata": {},
   "outputs": [],
   "source": [
    "data_stations.loc[2, \"ID\"]"
   ]
  },
  {
   "cell_type": "code",
   "execution_count": null,
   "metadata": {},
   "outputs": [],
   "source": [
    "for i in range(693):\n",
    "    data_stations.loc[i, \"Usage\"] = len(merged_data[merged_data[\"start_station_id\"] == data_stations.loc[i, \"ID\"]])"
   ]
  },
  {
   "cell_type": "code",
   "execution_count": null,
   "metadata": {},
   "outputs": [],
   "source": [
    "data_stations[\"Coordinates\"] = list(zip(data_stations[\"Latitude\"].round(4), data_stations[\"Longitude\"].round(4)))"
   ]
  },
  {
   "cell_type": "code",
   "execution_count": null,
   "metadata": {},
   "outputs": [],
   "source": [
    "data_stations.head()"
   ]
  },
  {
   "cell_type": "code",
   "execution_count": null,
   "metadata": {},
   "outputs": [],
   "source": [
    "data_stations[\"Usage\"].describe()"
   ]
  },
  {
   "cell_type": "code",
   "execution_count": null,
   "metadata": {},
   "outputs": [],
   "source": [
    "sns.displot(data = data_stations[\"Usage\"] , kde=True)\n",
    "\n",
    "plt.show()"
   ]
  },
  {
   "cell_type": "code",
   "execution_count": null,
   "metadata": {},
   "outputs": [],
   "source": [
    "heat_map = folium.Map(location=(41.8695, -87.6555), tiles='OpenStreetMap', zoom_start=9, control_scale=True, max_zoom=20)\n",
    "\n",
    "positions = list(data_stations[\"Coordinates\"].unique())\n",
    "for position in positions:\n",
    "    folium.CircleMarker(radius=1, location=position, popup='The Waterfront', \n",
    "                                 color='crimson', fill_color='crimson',\n",
    "                               size = data_stations[\"Usage\"]).add_to(heat_map)\n",
    "\n",
    "heat_map"
   ]
  },
  {
   "cell_type": "markdown",
   "metadata": {},
   "source": [
    "## Which stations are most popular?"
   ]
  },
  {
   "cell_type": "code",
   "execution_count": null,
   "metadata": {},
   "outputs": [],
   "source": [
    "len(data_messy[\"start_station_id\"].unique())"
   ]
  },
  {
   "cell_type": "code",
   "execution_count": null,
   "metadata": {},
   "outputs": [],
   "source": [
    "topTwy = data_stations[data_stations[\"ID\"] <= 621].sort_values(\"Usage\").tail(100)\n",
    "lowTwy = data_stations[data_stations[\"ID\"] <= 621].sort_values(\"Usage\").head(100)"
   ]
  },
  {
   "cell_type": "code",
   "execution_count": null,
   "metadata": {},
   "outputs": [],
   "source": [
    "topTwy[\"Popular\"] = \"crimson\"\n",
    "lowTwy[\"Popular\"] = \"blue\"\n",
    "\n",
    "topLowTwy = [topTwy, lowTwy]\n",
    "topLowTwy = pd.concat(topLowTwy)\n",
    "topLowTwy"
   ]
  },
  {
   "cell_type": "code",
   "execution_count": null,
   "metadata": {},
   "outputs": [],
   "source": [
    "heat_map = folium.Map(location=(41.8695, -87.6555), tiles='OpenStreetMap', zoom_start=9, control_scale=True, max_zoom=20)\n",
    "\n",
    "for i in range(len(topLowTwy)):\n",
    "    folium.CircleMarker(radius=1, location = topLowTwy.iloc[i][\"Coordinates\"], \n",
    "                                 color=topLowTwy.iloc[i][\"Popular\"], fill_color='crimson').add_to(heat_map)\n",
    "\n",
    "heat_map"
   ]
  },
  {
   "cell_type": "code",
   "execution_count": null,
   "metadata": {},
   "outputs": [],
   "source": [
    "data_stations = data_stations[data_stations[\"ID\"] < 621].sort_values(\"Usage\")\n",
    "\n",
    "g1 = data_stations[data_stations[\"Usage\"] < 1000]\n",
    "g2 = data_stations[(data_stations[\"Usage\"] >= 1000) & (data_stations[\"Usage\"] < 10000)]\n",
    "g3 = data_stations[data_stations[\"Usage\"] >= 10000]\n",
    "                   \n",
    "g1[\"Color\"] = \"green\"\n",
    "g2[\"Color\"] = \"yellow\"\n",
    "g3[\"Color\"] = \"red\"\n",
    "\n",
    "stat = [g1, g2, g3]\n",
    "stat = pd.concat(stat)\n",
    "stat"
   ]
  },
  {
   "cell_type": "code",
   "execution_count": null,
   "metadata": {
    "scrolled": false
   },
   "outputs": [],
   "source": [
    "heat_map = folium.Map(location=(41.8695, -87.6555), tiles='OpenStreetMap', zoom_start=9, control_scale=True, max_zoom=20)\n",
    "\n",
    "for i in range(len(stat)):\n",
    "    folium.CircleMarker(radius=2, location = stat.iloc[i][\"Coordinates\"], \n",
    "                                 color=stat.iloc[i][\"Color\"], fill_color='crimson',\n",
    "                                   popup = stat.iloc[i][\"Usage\"]).add_to(heat_map)\n",
    "\n",
    "heat_map"
   ]
  },
  {
   "cell_type": "code",
   "execution_count": null,
   "metadata": {},
   "outputs": [],
   "source": [
    "data_messy[data_messy[\"start_station_id\"] == 542].sort_values(\"start_time\")"
   ]
  },
  {
   "cell_type": "code",
   "execution_count": null,
   "metadata": {},
   "outputs": [],
   "source": [
    "stat[stat[\"ID\"] == 542][\"Usage\"]"
   ]
  },
  {
   "cell_type": "markdown",
   "metadata": {},
   "source": [
    "### Sights:\n",
    "\n",
    "* University of Chicago (in an area of unpopular stations)\n",
    "\n",
    "Todo:\n",
    "\n",
    "* find out why the some stations are so unpopular"
   ]
  },
  {
   "cell_type": "markdown",
   "metadata": {},
   "source": [
    "### Finding out when new stations were established"
   ]
  },
  {
   "cell_type": "code",
   "execution_count": null,
   "metadata": {},
   "outputs": [],
   "source": [
    "data_messy[data_messy[\"start_station_id\"] == 345][\"start_time\"].min()"
   ]
  },
  {
   "cell_type": "code",
   "execution_count": null,
   "metadata": {},
   "outputs": [],
   "source": [
    "def getFirstDate(ID):\n",
    "    return getTime(data_messy[data_messy[\"start_station_id\"] == ID][\"start_time\"].min())"
   ]
  },
  {
   "cell_type": "code",
   "execution_count": null,
   "metadata": {},
   "outputs": [],
   "source": [
    "getFirstDate(562)"
   ]
  },
  {
   "cell_type": "code",
   "execution_count": null,
   "metadata": {},
   "outputs": [],
   "source": [
    "data_stations[\"First Use\"] = data_stations[\"ID\"].apply(lambda x: getFirstDate(x))"
   ]
  },
  {
   "cell_type": "code",
   "execution_count": null,
   "metadata": {},
   "outputs": [],
   "source": [
    "data_stations.head()"
   ]
  },
  {
   "cell_type": "code",
   "execution_count": null,
   "metadata": {},
   "outputs": [],
   "source": [
    "data_stations.iloc[34][\"First Use\"] < cutDate1"
   ]
  },
  {
   "cell_type": "code",
   "execution_count": null,
   "metadata": {},
   "outputs": [],
   "source": [
    "def categorize(x, a, b):\n",
    "    if data_stations.iloc[x][\"First Use\"] < a:\n",
    "        return \"green\"\n",
    "    elif ((data_stations.iloc[x][\"First Use\"] >= a) & (data_stations.iloc[x][\"First Use\"] < b)):\n",
    "        return \"yellow\"\n",
    "    elif data_stations.iloc[x][\"First Use\"] > b:\n",
    "        return \"red\""
   ]
  },
  {
   "cell_type": "code",
   "execution_count": null,
   "metadata": {},
   "outputs": [],
   "source": [
    "cutDate1 = pd.to_datetime(\"1st of February, 2018\")\n",
    "cutDate2 = pd.to_datetime(\"1st of May, 2018\")"
   ]
  },
  {
   "cell_type": "code",
   "execution_count": null,
   "metadata": {},
   "outputs": [],
   "source": [
    "cutDate1 > cutDate2"
   ]
  },
  {
   "cell_type": "code",
   "execution_count": null,
   "metadata": {},
   "outputs": [],
   "source": [
    "heat_map = folium.Map(location=(41.8695, -87.6555), tiles='OpenStreetMap', zoom_start=9, control_scale=True, max_zoom=20)\n",
    "\n",
    "for i in range(len(data_stations)):\n",
    "    folium.CircleMarker(radius=2, location = data_stations.iloc[i][\"Coordinates\"], \n",
    "                                 color=categorize(i, cutDate1, cutDate2), fill_color='crimson',\n",
    "                                   popup = data_stations.iloc[i][\"ID\"]).add_to(heat_map)\n",
    "\n",
    "heat_map"
   ]
  },
  {
   "cell_type": "markdown",
   "metadata": {},
   "source": [
    "## Considering auto traffic"
   ]
  },
  {
   "cell_type": "markdown",
   "metadata": {},
   "source": [
    "Again some data I found on the [internet](https://www.chicago.gov/city/en/depts/cdot/dataset/average_daily_trafficcounts.html)\n",
    "\n",
    "### Average Daily Traffic\n",
    "\n",
    "Average Daily Traffic refers to the number of vehicles traveling through a particular point on the city streets in a 24-hour period. Average Daily Traffic (ADT) counts are analogous to a census count of vehicles on city streets. These counts provide a close approximation to the actual number of vehicles passing through a given location on an average weekday."
   ]
  },
  {
   "cell_type": "code",
   "execution_count": null,
   "metadata": {},
   "outputs": [],
   "source": [
    "traffic = pd.read_csv(\"Average_Daily_Traffic_Counts.csv\", sep = \",\")"
   ]
  },
  {
   "cell_type": "code",
   "execution_count": null,
   "metadata": {},
   "outputs": [],
   "source": [
    "traffic[\"Coordinates\"] = list(zip(traffic[\"Latitude\"].round(4), traffic[\"Longitude\"].round(4)))"
   ]
  },
  {
   "cell_type": "code",
   "execution_count": null,
   "metadata": {},
   "outputs": [],
   "source": [
    "traffic.head()"
   ]
  },
  {
   "cell_type": "code",
   "execution_count": null,
   "metadata": {},
   "outputs": [],
   "source": [
    "heat_map = folium.Map(location=(41.8695, -87.6555), tiles='OpenStreetMap', zoom_start=15, control_scale=True, max_zoom=20)\n",
    "\n",
    "# heat_map.add_child(plugins.HeatMap(merged_data[merged_data[\"bike_id\"] < 1000][\"Coordinates\"], radius = 25))\n",
    "\n",
    "for i in range(0,len(traffic)):\n",
    "   folium.Circle(\n",
    "      location=[traffic.iloc[i]['Latitude'], traffic.iloc[i]['Longitude']],\n",
    "      #popup=traffic.iloc[i]['Traffic Volume Count Location Address'],\n",
    "      radius=float(traffic.iloc[i]['Total Passing Vehicle Volume'])*0.005,\n",
    "      color='crimson',\n",
    "      fill=True,\n",
    "      fill_color='crimson'\n",
    "   ).add_to(heat_map)\n",
    "\n",
    "heat_map"
   ]
  },
  {
   "cell_type": "code",
   "execution_count": null,
   "metadata": {},
   "outputs": [],
   "source": []
  }
 ],
 "metadata": {
  "kernelspec": {
   "display_name": "Python 3",
   "language": "python",
   "name": "python3"
  },
  "language_info": {
   "codemirror_mode": {
    "name": "ipython",
    "version": 3
   },
   "file_extension": ".py",
   "mimetype": "text/x-python",
   "name": "python",
   "nbconvert_exporter": "python",
   "pygments_lexer": "ipython3",
   "version": "3.8.5"
  }
 },
 "nbformat": 4,
 "nbformat_minor": 4
}
