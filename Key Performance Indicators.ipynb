{
 "cells": [
  {
   "cell_type": "markdown",
   "metadata": {},
   "source": [
    "# `Descriptive analytics` - Key Performance Indicators (KPIs)"
   ]
  },
  {
   "cell_type": "markdown",
   "metadata": {},
   "source": [
    "In this notebook, we will make an attempt at defining Key Performance Indicators (KPIs) that are suitable to be included in a dashboard for bike sharing fleet operators, in this case the company \"Divvy Bikes\" from Chicago.\n",
    "\n",
    "The KPIs that we will cover in the follwing are:\n",
    "- (Number of new subscriptions)\n",
    "- Share of subcribers and customers (development)\n",
    "- Average ride duration\n",
    "- Website/app traffic\n",
    "\n",
    "The latter can be particularly interesting when compared to the actual bookings, i.e. the conversion. This could also help to accurately price the service.   "
   ]
  },
  {
   "cell_type": "markdown",
   "metadata": {},
   "source": [
    "### 1. Share of subscribers and customers\n",
    "\n",
    "Nowadays, subscriptions are a common way to generate income and to retain customers, escpecially for services that may not be used daily. \n",
    "However, subscription models tread a thin line when it comes to pricing, since people are often quite temperate when it comes to additional monthly/annual expenses. "
   ]
  },
  {
   "cell_type": "markdown",
   "metadata": {},
   "source": [
    "Let's give a shot at visualizing the annual subscription/customer share development:"
   ]
  },
  {
   "cell_type": "code",
   "execution_count": 1,
   "metadata": {},
   "outputs": [],
   "source": [
    "import numpy as np\n",
    "import pandas as pd\n",
    "import matplotlib.pyplot as plt\n",
    "import seaborn as sns\n",
    "from datetime import datetime\n",
    "from datetime import timedelta"
   ]
  },
  {
   "cell_type": "code",
   "execution_count": 2,
   "metadata": {},
   "outputs": [],
   "source": [
    "CGO_data = pd.read_csv(\"chicago_2018.csv\")"
   ]
  },
  {
   "cell_type": "code",
   "execution_count": 3,
   "metadata": {},
   "outputs": [
    {
     "data": {
      "text/html": [
       "<div>\n",
       "<style scoped>\n",
       "    .dataframe tbody tr th:only-of-type {\n",
       "        vertical-align: middle;\n",
       "    }\n",
       "\n",
       "    .dataframe tbody tr th {\n",
       "        vertical-align: top;\n",
       "    }\n",
       "\n",
       "    .dataframe thead th {\n",
       "        text-align: right;\n",
       "    }\n",
       "</style>\n",
       "<table border=\"1\" class=\"dataframe\">\n",
       "  <thead>\n",
       "    <tr style=\"text-align: right;\">\n",
       "      <th></th>\n",
       "      <th>start_time</th>\n",
       "      <th>end_time</th>\n",
       "      <th>start_station_id</th>\n",
       "      <th>end_station_id</th>\n",
       "      <th>start_station_name</th>\n",
       "      <th>end_station_name</th>\n",
       "      <th>bike_id</th>\n",
       "      <th>user_type</th>\n",
       "    </tr>\n",
       "  </thead>\n",
       "  <tbody>\n",
       "    <tr>\n",
       "      <th>0</th>\n",
       "      <td>2018-04-01 00:04:44</td>\n",
       "      <td>2018-04-01 00:13:03</td>\n",
       "      <td>22</td>\n",
       "      <td>171</td>\n",
       "      <td>May St &amp; Taylor St</td>\n",
       "      <td>May St &amp; Cullerton St</td>\n",
       "      <td>3819</td>\n",
       "      <td>Subscriber</td>\n",
       "    </tr>\n",
       "    <tr>\n",
       "      <th>1</th>\n",
       "      <td>2018-04-01 00:06:42</td>\n",
       "      <td>2018-04-01 00:27:07</td>\n",
       "      <td>157</td>\n",
       "      <td>190</td>\n",
       "      <td>Lake Shore Dr &amp; Wellington Ave</td>\n",
       "      <td>Southport Ave &amp; Wrightwood Ave</td>\n",
       "      <td>5000</td>\n",
       "      <td>Subscriber</td>\n",
       "    </tr>\n",
       "    <tr>\n",
       "      <th>2</th>\n",
       "      <td>2018-04-01 00:07:19</td>\n",
       "      <td>2018-04-01 00:23:19</td>\n",
       "      <td>106</td>\n",
       "      <td>106</td>\n",
       "      <td>State St &amp; Pearson St</td>\n",
       "      <td>State St &amp; Pearson St</td>\n",
       "      <td>5165</td>\n",
       "      <td>Customer</td>\n",
       "    </tr>\n",
       "    <tr>\n",
       "      <th>3</th>\n",
       "      <td>2018-04-01 00:07:33</td>\n",
       "      <td>2018-04-01 00:14:47</td>\n",
       "      <td>241</td>\n",
       "      <td>171</td>\n",
       "      <td>Morgan St &amp; Polk St</td>\n",
       "      <td>May St &amp; Cullerton St</td>\n",
       "      <td>3851</td>\n",
       "      <td>Subscriber</td>\n",
       "    </tr>\n",
       "    <tr>\n",
       "      <th>4</th>\n",
       "      <td>2018-04-01 00:10:23</td>\n",
       "      <td>2018-04-01 00:22:12</td>\n",
       "      <td>228</td>\n",
       "      <td>219</td>\n",
       "      <td>Damen Ave &amp; Melrose Ave</td>\n",
       "      <td>Damen Ave &amp; Cortland St</td>\n",
       "      <td>5065</td>\n",
       "      <td>Subscriber</td>\n",
       "    </tr>\n",
       "  </tbody>\n",
       "</table>\n",
       "</div>"
      ],
      "text/plain": [
       "            start_time             end_time  start_station_id  end_station_id  \\\n",
       "0  2018-04-01 00:04:44  2018-04-01 00:13:03                22             171   \n",
       "1  2018-04-01 00:06:42  2018-04-01 00:27:07               157             190   \n",
       "2  2018-04-01 00:07:19  2018-04-01 00:23:19               106             106   \n",
       "3  2018-04-01 00:07:33  2018-04-01 00:14:47               241             171   \n",
       "4  2018-04-01 00:10:23  2018-04-01 00:22:12               228             219   \n",
       "\n",
       "               start_station_name                end_station_name  bike_id  \\\n",
       "0              May St & Taylor St           May St & Cullerton St     3819   \n",
       "1  Lake Shore Dr & Wellington Ave  Southport Ave & Wrightwood Ave     5000   \n",
       "2           State St & Pearson St           State St & Pearson St     5165   \n",
       "3             Morgan St & Polk St           May St & Cullerton St     3851   \n",
       "4         Damen Ave & Melrose Ave         Damen Ave & Cortland St     5065   \n",
       "\n",
       "    user_type  \n",
       "0  Subscriber  \n",
       "1  Subscriber  \n",
       "2    Customer  \n",
       "3  Subscriber  \n",
       "4  Subscriber  "
      ]
     },
     "execution_count": 3,
     "metadata": {},
     "output_type": "execute_result"
    }
   ],
   "source": [
    "CGO_data.head()"
   ]
  },
  {
   "cell_type": "markdown",
   "metadata": {},
   "source": [
    "Plotting the user type share in the whole dataset, i.e. in year 2018"
   ]
  },
  {
   "cell_type": "code",
   "execution_count": 5,
   "metadata": {},
   "outputs": [
    {
     "data": {
      "text/plain": [
       "Subscriber    2925926\n",
       "Customer       677156\n",
       "Name: user_type, dtype: int64"
      ]
     },
     "execution_count": 5,
     "metadata": {},
     "output_type": "execute_result"
    }
   ],
   "source": [
    "CGO_data['user_type'].value_counts()"
   ]
  },
  {
   "cell_type": "code",
   "execution_count": 103,
   "metadata": {},
   "outputs": [
    {
     "data": {
      "image/png": "[encoded data removed]",
      "text/plain": [
       "<Figure size 432x288 with 1 Axes>"
      ]
     },
     "metadata": {},
     "output_type": "display_data"
    }
   ],
   "source": [
    "sns.countplot(x=\"user_type\",data=CGO_data, palette=\"OrRd\")\n",
    "\n",
    "plt.show()"
   ]
  },
  {
   "cell_type": "markdown",
   "metadata": {},
   "source": [
    "Let's now try to visualize the monthly development "
   ]
  },
  {
   "cell_type": "code",
   "execution_count": 24,
   "metadata": {},
   "outputs": [
    {
     "data": {
      "text/plain": [
       "Subscriber    0.812062\n",
       "Customer      0.187938\n",
       "Name: user_type, dtype: float64"
      ]
     },
     "execution_count": 24,
     "metadata": {},
     "output_type": "execute_result"
    }
   ],
   "source": [
    "CGO_data['user_type'].value_counts(normalize=True)"
   ]
  },
  {
   "cell_type": "markdown",
   "metadata": {},
   "source": [
    "In order to simplyfy further steps and to avoid any time related issues, we assign a new column \"month\" to the dataframe"
   ]
  },
  {
   "cell_type": "code",
   "execution_count": 56,
   "metadata": {},
   "outputs": [],
   "source": [
    "CGO_data['start_time'] = pd.to_datetime(CGO_data['start_time'])\n",
    "CGO_data[\"month\"] = list(CGO_data[\"start_time\"].dt.month)\n",
    "CGO_data.sort_values(by=['start_time'], inplace = True)"
   ]
  },
  {
   "cell_type": "code",
   "execution_count": 59,
   "metadata": {},
   "outputs": [
    {
     "data": {
      "text/html": [
       "<div>\n",
       "<style scoped>\n",
       "    .dataframe tbody tr th:only-of-type {\n",
       "        vertical-align: middle;\n",
       "    }\n",
       "\n",
       "    .dataframe tbody tr th {\n",
       "        vertical-align: top;\n",
       "    }\n",
       "\n",
       "    .dataframe thead th {\n",
       "        text-align: right;\n",
       "    }\n",
       "</style>\n",
       "<table border=\"1\" class=\"dataframe\">\n",
       "  <thead>\n",
       "    <tr style=\"text-align: right;\">\n",
       "      <th></th>\n",
       "      <th>start_time</th>\n",
       "      <th>end_time</th>\n",
       "      <th>start_station_id</th>\n",
       "      <th>end_station_id</th>\n",
       "      <th>start_station_name</th>\n",
       "      <th>end_station_name</th>\n",
       "      <th>bike_id</th>\n",
       "      <th>user_type</th>\n",
       "      <th>month</th>\n",
       "    </tr>\n",
       "  </thead>\n",
       "  <tbody>\n",
       "    <tr>\n",
       "      <th>3215937</th>\n",
       "      <td>2018-01-01 00:12:00</td>\n",
       "      <td>2018-01-01 00:17:23</td>\n",
       "      <td>69</td>\n",
       "      <td>159</td>\n",
       "      <td>Damen Ave &amp; Pierce Ave</td>\n",
       "      <td>Claremont Ave &amp; Hirsch St</td>\n",
       "      <td>3304</td>\n",
       "      <td>Subscriber</td>\n",
       "      <td>1</td>\n",
       "    </tr>\n",
       "    <tr>\n",
       "      <th>3215938</th>\n",
       "      <td>2018-01-01 00:41:35</td>\n",
       "      <td>2018-01-01 00:47:52</td>\n",
       "      <td>253</td>\n",
       "      <td>325</td>\n",
       "      <td>Winthrop Ave &amp; Lawrence Ave</td>\n",
       "      <td>Clark St &amp; Winnemac Ave (Temp)</td>\n",
       "      <td>5367</td>\n",
       "      <td>Subscriber</td>\n",
       "      <td>1</td>\n",
       "    </tr>\n",
       "    <tr>\n",
       "      <th>3215939</th>\n",
       "      <td>2018-01-01 00:44:46</td>\n",
       "      <td>2018-01-01 01:33:10</td>\n",
       "      <td>98</td>\n",
       "      <td>509</td>\n",
       "      <td>LaSalle St &amp; Washington St</td>\n",
       "      <td>Troy St &amp; North Ave</td>\n",
       "      <td>4599</td>\n",
       "      <td>Subscriber</td>\n",
       "      <td>1</td>\n",
       "    </tr>\n",
       "    <tr>\n",
       "      <th>3215940</th>\n",
       "      <td>2018-01-01 00:53:10</td>\n",
       "      <td>2018-01-01 01:05:37</td>\n",
       "      <td>125</td>\n",
       "      <td>364</td>\n",
       "      <td>Rush St &amp; Hubbard St</td>\n",
       "      <td>Larrabee St &amp; Oak St</td>\n",
       "      <td>2302</td>\n",
       "      <td>Subscriber</td>\n",
       "      <td>1</td>\n",
       "    </tr>\n",
       "    <tr>\n",
       "      <th>3215941</th>\n",
       "      <td>2018-01-01 00:53:37</td>\n",
       "      <td>2018-01-01 00:56:40</td>\n",
       "      <td>129</td>\n",
       "      <td>205</td>\n",
       "      <td>Blue Island Ave &amp; 18th St</td>\n",
       "      <td>Paulina St &amp; 18th St</td>\n",
       "      <td>3696</td>\n",
       "      <td>Subscriber</td>\n",
       "      <td>1</td>\n",
       "    </tr>\n",
       "  </tbody>\n",
       "</table>\n",
       "</div>"
      ],
      "text/plain": [
       "                 start_time            end_time  start_station_id  \\\n",
       "3215937 2018-01-01 00:12:00 2018-01-01 00:17:23                69   \n",
       "3215938 2018-01-01 00:41:35 2018-01-01 00:47:52               253   \n",
       "3215939 2018-01-01 00:44:46 2018-01-01 01:33:10                98   \n",
       "3215940 2018-01-01 00:53:10 2018-01-01 01:05:37               125   \n",
       "3215941 2018-01-01 00:53:37 2018-01-01 00:56:40               129   \n",
       "\n",
       "         end_station_id           start_station_name  \\\n",
       "3215937             159       Damen Ave & Pierce Ave   \n",
       "3215938             325  Winthrop Ave & Lawrence Ave   \n",
       "3215939             509   LaSalle St & Washington St   \n",
       "3215940             364         Rush St & Hubbard St   \n",
       "3215941             205    Blue Island Ave & 18th St   \n",
       "\n",
       "                       end_station_name  bike_id   user_type  month  \n",
       "3215937       Claremont Ave & Hirsch St     3304  Subscriber      1  \n",
       "3215938  Clark St & Winnemac Ave (Temp)     5367  Subscriber      1  \n",
       "3215939             Troy St & North Ave     4599  Subscriber      1  \n",
       "3215940            Larrabee St & Oak St     2302  Subscriber      1  \n",
       "3215941            Paulina St & 18th St     3696  Subscriber      1  "
      ]
     },
     "execution_count": 59,
     "metadata": {},
     "output_type": "execute_result"
    }
   ],
   "source": [
    "CGO_data.head()"
   ]
  },
  {
   "cell_type": "markdown",
   "metadata": {},
   "source": [
    "Create a new dataframe that houses the monthly share of subscribers and customers"
   ]
  },
  {
   "cell_type": "code",
   "execution_count": 75,
   "metadata": {},
   "outputs": [],
   "source": [
    "january_s = ((CGO_data.user_type == 'Subscriber') & (CGO_data[\"month\"]==1)).sum()\n",
    "febuary_s = ((CGO_data.user_type == 'Subscriber') & (CGO_data[\"month\"]==2)).sum()\n",
    "march_s = ((CGO_data.user_type == 'Subscriber') & (CGO_data[\"month\"]==3)).sum()\n",
    "april_s = ((CGO_data.user_type == 'Subscriber') & (CGO_data[\"month\"]==4)).sum()\n",
    "may_s = ((CGO_data.user_type == 'Subscriber') & (CGO_data[\"month\"]==5)).sum()\n",
    "june_s = ((CGO_data.user_type == 'Subscriber') & (CGO_data[\"month\"]==6)).sum()\n",
    "july_s = ((CGO_data.user_type == 'Subscriber') & (CGO_data[\"month\"]==7)).sum()\n",
    "august_s = ((CGO_data.user_type == 'Subscriber') & (CGO_data[\"month\"]==8)).sum()\n",
    "september_s = ((CGO_data.user_type == 'Subscriber') & (CGO_data[\"month\"]==9)).sum()\n",
    "october_s = ((CGO_data.user_type == 'Subscriber') & (CGO_data[\"month\"]==10)).sum()\n",
    "november_s = ((CGO_data.user_type == 'Subscriber') & (CGO_data[\"month\"]==11)).sum()\n",
    "december_s = ((CGO_data.user_type == 'Subscriber') & (CGO_data[\"month\"]==12)).sum()\n",
    "\n",
    "january_c = ((CGO_data.user_type == 'Customer') & (CGO_data[\"month\"]==1)).sum()\n",
    "febuary_c = ((CGO_data.user_type == 'Customer') & (CGO_data[\"month\"]==2)).sum()\n",
    "march_c = ((CGO_data.user_type == 'Customer') & (CGO_data[\"month\"]==3)).sum()\n",
    "april_c = ((CGO_data.user_type == 'Customer') & (CGO_data[\"month\"]==4)).sum()\n",
    "may_c = ((CGO_data.user_type == 'Customer') & (CGO_data[\"month\"]==5)).sum()\n",
    "june_c = ((CGO_data.user_type == 'Customer') & (CGO_data[\"month\"]==6)).sum()\n",
    "july_c = ((CGO_data.user_type == 'Customer') & (CGO_data[\"month\"]==7)).sum()\n",
    "august_c = ((CGO_data.user_type == 'Customer') & (CGO_data[\"month\"]==8)).sum()\n",
    "september_c = ((CGO_data.user_type == 'Customer') & (CGO_data[\"month\"]==9)).sum()\n",
    "october_c = ((CGO_data.user_type == 'Customer') & (CGO_data[\"month\"]==10)).sum()\n",
    "november_c = ((CGO_data.user_type == 'Customer') & (CGO_data[\"month\"]==11)).sum()\n",
    "december_c = ((CGO_data.user_type == 'Customer') & (CGO_data[\"month\"]==12)).sum()"
   ]
  },
  {
   "cell_type": "code",
   "execution_count": 76,
   "metadata": {},
   "outputs": [
    {
     "data": {
      "text/html": [
       "<div>\n",
       "<style scoped>\n",
       "    .dataframe tbody tr th:only-of-type {\n",
       "        vertical-align: middle;\n",
       "    }\n",
       "\n",
       "    .dataframe tbody tr th {\n",
       "        vertical-align: top;\n",
       "    }\n",
       "\n",
       "    .dataframe thead th {\n",
       "        text-align: right;\n",
       "    }\n",
       "</style>\n",
       "<table border=\"1\" class=\"dataframe\">\n",
       "  <thead>\n",
       "    <tr style=\"text-align: right;\">\n",
       "      <th></th>\n",
       "      <th>subscriber_count</th>\n",
       "      <th>customer_count</th>\n",
       "    </tr>\n",
       "  </thead>\n",
       "  <tbody>\n",
       "    <tr>\n",
       "      <th>january</th>\n",
       "      <td>106216</td>\n",
       "      <td>3490</td>\n",
       "    </tr>\n",
       "    <tr>\n",
       "      <th>febuary</th>\n",
       "      <td>99540</td>\n",
       "      <td>3410</td>\n",
       "    </tr>\n",
       "    <tr>\n",
       "      <th>march</th>\n",
       "      <td>158946</td>\n",
       "      <td>15543</td>\n",
       "    </tr>\n",
       "    <tr>\n",
       "      <th>april</th>\n",
       "      <td>178264</td>\n",
       "      <td>21848</td>\n",
       "    </tr>\n",
       "    <tr>\n",
       "      <th>may</th>\n",
       "      <td>311609</td>\n",
       "      <td>89541</td>\n",
       "    </tr>\n",
       "    <tr>\n",
       "      <th>june</th>\n",
       "      <td>350264</td>\n",
       "      <td>108155</td>\n",
       "    </tr>\n",
       "    <tr>\n",
       "      <th>july</th>\n",
       "      <td>394437</td>\n",
       "      <td>150266</td>\n",
       "    </tr>\n",
       "    <tr>\n",
       "      <th>august</th>\n",
       "      <td>401989</td>\n",
       "      <td>128766</td>\n",
       "    </tr>\n",
       "    <tr>\n",
       "      <th>september</th>\n",
       "      <td>344211</td>\n",
       "      <td>93901</td>\n",
       "    </tr>\n",
       "    <tr>\n",
       "      <th>october</th>\n",
       "      <td>301196</td>\n",
       "      <td>43744</td>\n",
       "    </tr>\n",
       "    <tr>\n",
       "      <th>november</th>\n",
       "      <td>157767</td>\n",
       "      <td>11007</td>\n",
       "    </tr>\n",
       "    <tr>\n",
       "      <th>december</th>\n",
       "      <td>121487</td>\n",
       "      <td>7485</td>\n",
       "    </tr>\n",
       "  </tbody>\n",
       "</table>\n",
       "</div>"
      ],
      "text/plain": [
       "           subscriber_count  customer_count\n",
       "january              106216            3490\n",
       "febuary               99540            3410\n",
       "march                158946           15543\n",
       "april                178264           21848\n",
       "may                  311609           89541\n",
       "june                 350264          108155\n",
       "july                 394437          150266\n",
       "august               401989          128766\n",
       "september            344211           93901\n",
       "october              301196           43744\n",
       "november             157767           11007\n",
       "december             121487            7485"
      ]
     },
     "execution_count": 76,
     "metadata": {},
     "output_type": "execute_result"
    }
   ],
   "source": [
    "subscribers = pd.Series({'january': january_s, 'febuary': febuary_s,\n",
    "                  'march': march_s, 'april': april_s,\n",
    "                  'may': may_s, 'june': june_s, 'july': july_s, 'august': august_s,\n",
    "                  'september': september_s,'october': october_s,'november': november_s,\n",
    "                  'december': december_s,})\n",
    "\n",
    "customers = pd.Series({'january': january_c, 'febuary': febuary_c,\n",
    "                  'march': march_c, 'april': april_c,\n",
    "                  'may': may_c, 'june': june_c, 'july': july_c, 'august': august_c,\n",
    "                  'september': september_c,'october': october_c,'november': november_c,\n",
    "                  'december': december_c,})\n",
    "\n",
    "share = pd.DataFrame({'subscriber_count':subscribers, 'customer_count':customers})\n",
    "share"
   ]
  },
  {
   "cell_type": "code",
   "execution_count": 86,
   "metadata": {},
   "outputs": [],
   "source": [
    "share[\"total\"] = (share['customer_count']+share['subscriber_count'])"
   ]
  },
  {
   "cell_type": "code",
   "execution_count": 93,
   "metadata": {},
   "outputs": [
    {
     "data": {
      "text/html": [
       "<div>\n",
       "<style scoped>\n",
       "    .dataframe tbody tr th:only-of-type {\n",
       "        vertical-align: middle;\n",
       "    }\n",
       "\n",
       "    .dataframe tbody tr th {\n",
       "        vertical-align: top;\n",
       "    }\n",
       "\n",
       "    .dataframe thead th {\n",
       "        text-align: right;\n",
       "    }\n",
       "</style>\n",
       "<table border=\"1\" class=\"dataframe\">\n",
       "  <thead>\n",
       "    <tr style=\"text-align: right;\">\n",
       "      <th></th>\n",
       "      <th>subscriber_count</th>\n",
       "      <th>customer_count</th>\n",
       "      <th>total</th>\n",
       "      <th>subscriber_share</th>\n",
       "      <th>customer_share</th>\n",
       "    </tr>\n",
       "  </thead>\n",
       "  <tbody>\n",
       "    <tr>\n",
       "      <th>january</th>\n",
       "      <td>106216</td>\n",
       "      <td>3490</td>\n",
       "      <td>109706</td>\n",
       "      <td>96.818770</td>\n",
       "      <td>3.181230</td>\n",
       "    </tr>\n",
       "    <tr>\n",
       "      <th>febuary</th>\n",
       "      <td>99540</td>\n",
       "      <td>3410</td>\n",
       "      <td>102950</td>\n",
       "      <td>96.687712</td>\n",
       "      <td>3.312288</td>\n",
       "    </tr>\n",
       "    <tr>\n",
       "      <th>march</th>\n",
       "      <td>158946</td>\n",
       "      <td>15543</td>\n",
       "      <td>174489</td>\n",
       "      <td>91.092275</td>\n",
       "      <td>8.907725</td>\n",
       "    </tr>\n",
       "    <tr>\n",
       "      <th>april</th>\n",
       "      <td>178264</td>\n",
       "      <td>21848</td>\n",
       "      <td>200112</td>\n",
       "      <td>89.082114</td>\n",
       "      <td>10.917886</td>\n",
       "    </tr>\n",
       "    <tr>\n",
       "      <th>may</th>\n",
       "      <td>311609</td>\n",
       "      <td>89541</td>\n",
       "      <td>401150</td>\n",
       "      <td>77.678923</td>\n",
       "      <td>22.321077</td>\n",
       "    </tr>\n",
       "    <tr>\n",
       "      <th>june</th>\n",
       "      <td>350264</td>\n",
       "      <td>108155</td>\n",
       "      <td>458419</td>\n",
       "      <td>76.406955</td>\n",
       "      <td>23.593045</td>\n",
       "    </tr>\n",
       "    <tr>\n",
       "      <th>july</th>\n",
       "      <td>394437</td>\n",
       "      <td>150266</td>\n",
       "      <td>544703</td>\n",
       "      <td>72.413223</td>\n",
       "      <td>27.586777</td>\n",
       "    </tr>\n",
       "    <tr>\n",
       "      <th>august</th>\n",
       "      <td>401989</td>\n",
       "      <td>128766</td>\n",
       "      <td>530755</td>\n",
       "      <td>75.739089</td>\n",
       "      <td>24.260911</td>\n",
       "    </tr>\n",
       "    <tr>\n",
       "      <th>september</th>\n",
       "      <td>344211</td>\n",
       "      <td>93901</td>\n",
       "      <td>438112</td>\n",
       "      <td>78.566896</td>\n",
       "      <td>21.433104</td>\n",
       "    </tr>\n",
       "    <tr>\n",
       "      <th>october</th>\n",
       "      <td>301196</td>\n",
       "      <td>43744</td>\n",
       "      <td>344940</td>\n",
       "      <td>87.318374</td>\n",
       "      <td>12.681626</td>\n",
       "    </tr>\n",
       "    <tr>\n",
       "      <th>november</th>\n",
       "      <td>157767</td>\n",
       "      <td>11007</td>\n",
       "      <td>168774</td>\n",
       "      <td>93.478261</td>\n",
       "      <td>6.521739</td>\n",
       "    </tr>\n",
       "    <tr>\n",
       "      <th>december</th>\n",
       "      <td>121487</td>\n",
       "      <td>7485</td>\n",
       "      <td>128972</td>\n",
       "      <td>94.196415</td>\n",
       "      <td>5.803585</td>\n",
       "    </tr>\n",
       "  </tbody>\n",
       "</table>\n",
       "</div>"
      ],
      "text/plain": [
       "           subscriber_count  customer_count   total  subscriber_share  \\\n",
       "january              106216            3490  109706         96.818770   \n",
       "febuary               99540            3410  102950         96.687712   \n",
       "march                158946           15543  174489         91.092275   \n",
       "april                178264           21848  200112         89.082114   \n",
       "may                  311609           89541  401150         77.678923   \n",
       "june                 350264          108155  458419         76.406955   \n",
       "july                 394437          150266  544703         72.413223   \n",
       "august               401989          128766  530755         75.739089   \n",
       "september            344211           93901  438112         78.566896   \n",
       "october              301196           43744  344940         87.318374   \n",
       "november             157767           11007  168774         93.478261   \n",
       "december             121487            7485  128972         94.196415   \n",
       "\n",
       "           customer_share  \n",
       "january          3.181230  \n",
       "febuary          3.312288  \n",
       "march            8.907725  \n",
       "april           10.917886  \n",
       "may             22.321077  \n",
       "june            23.593045  \n",
       "july            27.586777  \n",
       "august          24.260911  \n",
       "september       21.433104  \n",
       "october         12.681626  \n",
       "november         6.521739  \n",
       "december         5.803585  "
      ]
     },
     "execution_count": 93,
     "metadata": {},
     "output_type": "execute_result"
    }
   ],
   "source": [
    "share[\"subscriber_share\"] = (share['subscriber_count'] / share['total']) *100\n",
    "share[\"customer_share\"] = (share['customer_count'] / share['total']) *100\n",
    "share"
   ]
  },
  {
   "cell_type": "code",
   "execution_count": 100,
   "metadata": {},
   "outputs": [
    {
     "data": {
      "text/plain": [
       "<AxesSubplot:ylabel='subscriber_share'>"
      ]
     },
     "execution_count": 100,
     "metadata": {},
     "output_type": "execute_result"
    },
    {
     "data": {
      "image/png": "[encoded data removed]",
      "text/plain": [
       "<Figure size 432x288 with 1 Axes>"
      ]
     },
     "metadata": {},
     "output_type": "display_data"
    }
   ],
   "source": [
    "sns.lineplot(data=share, x=share.index, y=\"subscriber_share\")\n",
    "sns.lineplot(data=share, x=share.index, y=\"customer_share\")"
   ]
  },
  {
   "cell_type": "code",
   "execution_count": 224,
   "metadata": {},
   "outputs": [
    {
     "data": {
      "image/png": "[encoded data removed]",
      "text/plain": [
       "<Figure size 1152x648 with 1 Axes>"
      ]
     },
     "metadata": {},
     "output_type": "display_data"
    }
   ],
   "source": [
    "x1 = share.index\n",
    "y1 = share[\"subscriber_share\"]\n",
    "y2 = share[\"customer_share\"]\n",
    "\n",
    "plt.figure(figsize=(16,9))\n",
    "\n",
    "plt.plot(x1,y1,label=\"subscriber-share\")\n",
    "plt.plot(x1,y2,label=\"customer-share\")\n",
    "\n",
    "plt.xlabel('month')\n",
    "plt.ylabel('share')\n",
    "plt.title(\"Subscriber/Customer Share\", fontsize=16, fontname=\"Arial\")\n",
    "\n",
    "plt.legend(loc=0, fontsize=12)\n",
    "\n",
    "plt.show()"
   ]
  },
  {
   "cell_type": "markdown",
   "metadata": {},
   "source": [
    "Unfortunately the subscriber/customer share development is not that interesting to be an own KPI, but definitely quite precious for the temporal demand patterns. "
   ]
  },
  {
   "cell_type": "markdown",
   "metadata": {},
   "source": [
    "Sidenote: Divvy Bikes ran a campain called \"Stall Fall\" with festivities at the bike stations in september 2018.\n",
    "-> Incremental Sales?"
   ]
  },
  {
   "cell_type": "markdown",
   "metadata": {},
   "source": [
    "### 2. Average ride duration\n",
    "\n",
    "The average ride duration and it's development can be a good indicator of how well the service is adopted and how satisfied the customers are."
   ]
  },
  {
   "cell_type": "markdown",
   "metadata": {},
   "source": [
    "Lets go ahead and assign a new column \"duration\" to the dataset"
   ]
  },
  {
   "cell_type": "code",
   "execution_count": 177,
   "metadata": {},
   "outputs": [],
   "source": [
    "CGO_data[\"duration\"] = (pd.to_datetime(CGO_data[\"end_time\"]) - pd.to_datetime(CGO_data[\"start_time\"]))"
   ]
  },
  {
   "cell_type": "code",
   "execution_count": 178,
   "metadata": {},
   "outputs": [
    {
     "data": {
      "text/html": [
       "<div>\n",
       "<style scoped>\n",
       "    .dataframe tbody tr th:only-of-type {\n",
       "        vertical-align: middle;\n",
       "    }\n",
       "\n",
       "    .dataframe tbody tr th {\n",
       "        vertical-align: top;\n",
       "    }\n",
       "\n",
       "    .dataframe thead th {\n",
       "        text-align: right;\n",
       "    }\n",
       "</style>\n",
       "<table border=\"1\" class=\"dataframe\">\n",
       "  <thead>\n",
       "    <tr style=\"text-align: right;\">\n",
       "      <th></th>\n",
       "      <th>start_time</th>\n",
       "      <th>end_time</th>\n",
       "      <th>start_station_id</th>\n",
       "      <th>end_station_id</th>\n",
       "      <th>start_station_name</th>\n",
       "      <th>end_station_name</th>\n",
       "      <th>bike_id</th>\n",
       "      <th>user_type</th>\n",
       "      <th>month</th>\n",
       "      <th>duration</th>\n",
       "    </tr>\n",
       "  </thead>\n",
       "  <tbody>\n",
       "    <tr>\n",
       "      <th>3215937</th>\n",
       "      <td>2018-01-01 00:12:00</td>\n",
       "      <td>2018-01-01 00:17:23</td>\n",
       "      <td>69</td>\n",
       "      <td>159</td>\n",
       "      <td>Damen Ave &amp; Pierce Ave</td>\n",
       "      <td>Claremont Ave &amp; Hirsch St</td>\n",
       "      <td>3304</td>\n",
       "      <td>Subscriber</td>\n",
       "      <td>1</td>\n",
       "      <td>0 days 00:05:23</td>\n",
       "    </tr>\n",
       "    <tr>\n",
       "      <th>3215938</th>\n",
       "      <td>2018-01-01 00:41:35</td>\n",
       "      <td>2018-01-01 00:47:52</td>\n",
       "      <td>253</td>\n",
       "      <td>325</td>\n",
       "      <td>Winthrop Ave &amp; Lawrence Ave</td>\n",
       "      <td>Clark St &amp; Winnemac Ave (Temp)</td>\n",
       "      <td>5367</td>\n",
       "      <td>Subscriber</td>\n",
       "      <td>1</td>\n",
       "      <td>0 days 00:06:17</td>\n",
       "    </tr>\n",
       "    <tr>\n",
       "      <th>3215939</th>\n",
       "      <td>2018-01-01 00:44:46</td>\n",
       "      <td>2018-01-01 01:33:10</td>\n",
       "      <td>98</td>\n",
       "      <td>509</td>\n",
       "      <td>LaSalle St &amp; Washington St</td>\n",
       "      <td>Troy St &amp; North Ave</td>\n",
       "      <td>4599</td>\n",
       "      <td>Subscriber</td>\n",
       "      <td>1</td>\n",
       "      <td>0 days 00:48:24</td>\n",
       "    </tr>\n",
       "    <tr>\n",
       "      <th>3215940</th>\n",
       "      <td>2018-01-01 00:53:10</td>\n",
       "      <td>2018-01-01 01:05:37</td>\n",
       "      <td>125</td>\n",
       "      <td>364</td>\n",
       "      <td>Rush St &amp; Hubbard St</td>\n",
       "      <td>Larrabee St &amp; Oak St</td>\n",
       "      <td>2302</td>\n",
       "      <td>Subscriber</td>\n",
       "      <td>1</td>\n",
       "      <td>0 days 00:12:27</td>\n",
       "    </tr>\n",
       "    <tr>\n",
       "      <th>3215941</th>\n",
       "      <td>2018-01-01 00:53:37</td>\n",
       "      <td>2018-01-01 00:56:40</td>\n",
       "      <td>129</td>\n",
       "      <td>205</td>\n",
       "      <td>Blue Island Ave &amp; 18th St</td>\n",
       "      <td>Paulina St &amp; 18th St</td>\n",
       "      <td>3696</td>\n",
       "      <td>Subscriber</td>\n",
       "      <td>1</td>\n",
       "      <td>0 days 00:03:03</td>\n",
       "    </tr>\n",
       "  </tbody>\n",
       "</table>\n",
       "</div>"
      ],
      "text/plain": [
       "                 start_time            end_time  start_station_id  \\\n",
       "3215937 2018-01-01 00:12:00 2018-01-01 00:17:23                69   \n",
       "3215938 2018-01-01 00:41:35 2018-01-01 00:47:52               253   \n",
       "3215939 2018-01-01 00:44:46 2018-01-01 01:33:10                98   \n",
       "3215940 2018-01-01 00:53:10 2018-01-01 01:05:37               125   \n",
       "3215941 2018-01-01 00:53:37 2018-01-01 00:56:40               129   \n",
       "\n",
       "         end_station_id           start_station_name  \\\n",
       "3215937             159       Damen Ave & Pierce Ave   \n",
       "3215938             325  Winthrop Ave & Lawrence Ave   \n",
       "3215939             509   LaSalle St & Washington St   \n",
       "3215940             364         Rush St & Hubbard St   \n",
       "3215941             205    Blue Island Ave & 18th St   \n",
       "\n",
       "                       end_station_name  bike_id   user_type  month  \\\n",
       "3215937       Claremont Ave & Hirsch St     3304  Subscriber      1   \n",
       "3215938  Clark St & Winnemac Ave (Temp)     5367  Subscriber      1   \n",
       "3215939             Troy St & North Ave     4599  Subscriber      1   \n",
       "3215940            Larrabee St & Oak St     2302  Subscriber      1   \n",
       "3215941            Paulina St & 18th St     3696  Subscriber      1   \n",
       "\n",
       "               duration  \n",
       "3215937 0 days 00:05:23  \n",
       "3215938 0 days 00:06:17  \n",
       "3215939 0 days 00:48:24  \n",
       "3215940 0 days 00:12:27  \n",
       "3215941 0 days 00:03:03  "
      ]
     },
     "execution_count": 178,
     "metadata": {},
     "output_type": "execute_result"
    }
   ],
   "source": [
    "CGO_data.head()"
   ]
  },
  {
   "cell_type": "code",
   "execution_count": 179,
   "metadata": {},
   "outputs": [
    {
     "data": {
      "text/plain": [
       "Timedelta('0 days 00:23:33.138314642')"
      ]
     },
     "execution_count": 179,
     "metadata": {},
     "output_type": "execute_result"
    }
   ],
   "source": [
    "CGO_data.duration.mean()"
   ]
  },
  {
   "cell_type": "markdown",
   "metadata": {},
   "source": [
    "The average ride around is 23 minutes and 33 seconds long."
   ]
  },
  {
   "cell_type": "code",
   "execution_count": 180,
   "metadata": {},
   "outputs": [],
   "source": [
    "january_d = (CGO_data.duration[CGO_data[\"month\"] == 1].mean())\n",
    "febuary_d = CGO_data.duration[CGO_data[\"month\"] == 2].mean()\n",
    "march_d = CGO_data.duration[CGO_data[\"month\"] == 3].mean()\n",
    "april_d = CGO_data.duration[CGO_data[\"month\"] == 4].mean()\n",
    "may_d = CGO_data.duration[CGO_data[\"month\"] == 5].mean()\n",
    "june_d = CGO_data.duration[CGO_data[\"month\"] == 6].mean()\n",
    "july_d = CGO_data.duration[CGO_data[\"month\"] == 7].mean()\n",
    "august_d = CGO_data.duration[CGO_data[\"month\"] == 8].mean()\n",
    "september_d = CGO_data.duration[CGO_data[\"month\"] == 9].mean()\n",
    "october_d = CGO_data.duration[CGO_data[\"month\"] == 10].mean()\n",
    "november_d = CGO_data.duration[CGO_data[\"month\"] == 11].mean()\n",
    "december_d = CGO_data.duration[CGO_data[\"month\"] == 12].mean()\n",
    "\n",
    "january_d = january_d.seconds/60\n",
    "febuary_d = febuary_d.seconds/60\n",
    "march_d = march_d.seconds/60\n",
    "april_d = april_d.seconds/60\n",
    "may_d = may_d.seconds/60\n",
    "june_d = june_d.seconds/60\n",
    "july_d = july_d.seconds/60\n",
    "august_d = august_d.seconds/60\n",
    "september_d = september_d.seconds/60\n",
    "october_d = october_d.seconds/60\n",
    "november_d = november_d.seconds/60\n",
    "december_d = december_d.seconds/60"
   ]
  },
  {
   "cell_type": "code",
   "execution_count": 181,
   "metadata": {},
   "outputs": [
    {
     "data": {
      "text/html": [
       "<div>\n",
       "<style scoped>\n",
       "    .dataframe tbody tr th:only-of-type {\n",
       "        vertical-align: middle;\n",
       "    }\n",
       "\n",
       "    .dataframe tbody tr th {\n",
       "        vertical-align: top;\n",
       "    }\n",
       "\n",
       "    .dataframe thead th {\n",
       "        text-align: right;\n",
       "    }\n",
       "</style>\n",
       "<table border=\"1\" class=\"dataframe\">\n",
       "  <thead>\n",
       "    <tr style=\"text-align: right;\">\n",
       "      <th></th>\n",
       "      <th>average_duration</th>\n",
       "    </tr>\n",
       "  </thead>\n",
       "  <tbody>\n",
       "    <tr>\n",
       "      <th>january</th>\n",
       "      <td>18.383333</td>\n",
       "    </tr>\n",
       "    <tr>\n",
       "      <th>febuary</th>\n",
       "      <td>16.066667</td>\n",
       "    </tr>\n",
       "    <tr>\n",
       "      <th>march</th>\n",
       "      <td>17.266667</td>\n",
       "    </tr>\n",
       "    <tr>\n",
       "      <th>april</th>\n",
       "      <td>20.350000</td>\n",
       "    </tr>\n",
       "    <tr>\n",
       "      <th>may</th>\n",
       "      <td>24.783333</td>\n",
       "    </tr>\n",
       "    <tr>\n",
       "      <th>june</th>\n",
       "      <td>25.800000</td>\n",
       "    </tr>\n",
       "    <tr>\n",
       "      <th>july</th>\n",
       "      <td>29.416667</td>\n",
       "    </tr>\n",
       "    <tr>\n",
       "      <th>august</th>\n",
       "      <td>27.233333</td>\n",
       "    </tr>\n",
       "    <tr>\n",
       "      <th>september</th>\n",
       "      <td>24.383333</td>\n",
       "    </tr>\n",
       "    <tr>\n",
       "      <th>october</th>\n",
       "      <td>18.733333</td>\n",
       "    </tr>\n",
       "    <tr>\n",
       "      <th>november</th>\n",
       "      <td>16.283333</td>\n",
       "    </tr>\n",
       "    <tr>\n",
       "      <th>december</th>\n",
       "      <td>15.016667</td>\n",
       "    </tr>\n",
       "  </tbody>\n",
       "</table>\n",
       "</div>"
      ],
      "text/plain": [
       "           average_duration\n",
       "january           18.383333\n",
       "febuary           16.066667\n",
       "march             17.266667\n",
       "april             20.350000\n",
       "may               24.783333\n",
       "june              25.800000\n",
       "july              29.416667\n",
       "august            27.233333\n",
       "september         24.383333\n",
       "october           18.733333\n",
       "november          16.283333\n",
       "december          15.016667"
      ]
     },
     "execution_count": 181,
     "metadata": {},
     "output_type": "execute_result"
    }
   ],
   "source": [
    "average_duration = pd.Series({'january': january_d, 'febuary': febuary_d,\n",
    "                  'march': march_d, 'april': april_d,\n",
    "                  'may': may_d, 'june': june_d, 'july': july_d, 'august': august_d,\n",
    "                  'september': september_d,'october': october_d,'november': november_d,\n",
    "                  'december': december_d,})\n",
    "\n",
    "duration = pd.DataFrame({'average_duration':average_duration})\n",
    "duration"
   ]
  },
  {
   "cell_type": "code",
   "execution_count": 182,
   "metadata": {},
   "outputs": [
    {
     "data": {
      "image/png": "[encoded data removed]",
      "text/plain": [
       "<Figure size 1152x648 with 1 Axes>"
      ]
     },
     "metadata": {},
     "output_type": "display_data"
    }
   ],
   "source": [
    "x2 = duration.index\n",
    "y3 = duration[\"average_duration\"]\n",
    "\n",
    "plt.figure(figsize=(16,9))\n",
    "\n",
    "plt.plot(x2,y3,label=\"average ride duration\")\n",
    "\n",
    "plt.xlabel('month')\n",
    "plt.ylabel('minutes')\n",
    "plt.title(\"Average Ride Duration\", fontsize=16, fontname=\"Arial\")\n",
    "\n",
    "plt.legend(loc=0, fontsize=12)\n",
    "\n",
    "plt.show()"
   ]
  },
  {
   "cell_type": "code",
   "execution_count": 223,
   "metadata": {},
   "outputs": [
    {
     "data": {
      "image/png": "[encoded data removed]",
      "text/plain": [
       "<Figure size 432x288 with 2 Axes>"
      ]
     },
     "metadata": {},
     "output_type": "display_data"
    }
   ],
   "source": [
    "# empty work space\n",
    "Fig_2 = plt.figure()\n",
    "\n",
    "ax_2 = Fig_2.add_axes([0.1, 0.1, 2, 2]) # main axes\n",
    "ax_3 = Fig_2.add_axes([0.3, 0.8, 1, 0.6]) # added axes\n",
    "\n",
    "# Larger diagramm with axes 1\n",
    "ax_2.plot(x1, y1, 'b')\n",
    "ax_2.plot(x1,y2,'c')\n",
    "ax_2.set_xlabel('share')\n",
    "ax_2.set_ylabel('month')\n",
    "ax_2.set_title('Subscriber/Customer Share')\n",
    "\n",
    "\n",
    "\n",
    "# Larger diagramm with axes 2\n",
    "ax_3.plot(x2,y3,'r')\n",
    "ax_3.set_xlabel('month')\n",
    "ax_3.set_ylabel('minutes')\n",
    "ax_3.set_title('Average Ride Duration')\n",
    "\n",
    "plt.show()"
   ]
  },
  {
   "cell_type": "code",
   "execution_count": null,
   "metadata": {},
   "outputs": [],
   "source": []
  }
 ],
 "metadata": {
  "kernelspec": {
   "display_name": "Python 3",
   "language": "python",
   "name": "python3"
  },
  "language_info": {
   "codemirror_mode": {
    "name": "ipython",
    "version": 3
   },
   "file_extension": ".py",
   "mimetype": "text/x-python",
   "name": "python",
   "nbconvert_exporter": "python",
   "pygments_lexer": "ipython3",
   "version": "3.9.1"
  }
 },
 "nbformat": 4,
 "nbformat_minor": 4
}
