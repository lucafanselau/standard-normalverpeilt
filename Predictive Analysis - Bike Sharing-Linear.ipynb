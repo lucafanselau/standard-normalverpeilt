{
 "cells": [
  {
   "cell_type": "markdown",
   "metadata": {},
   "source": [
    "# Predictive Analytics"
   ]
  },
  {
   "cell_type": "markdown",
   "metadata": {},
   "source": [
    "## Preparation"
   ]
  },
  {
   "cell_type": "code",
   "execution_count": 16,
   "metadata": {},
   "outputs": [],
   "source": [
    "import numpy as np\n",
    "import pandas as pd\n",
    "import matplotlib.pyplot as plt\n",
    "import seaborn as sns\n",
    "import datetime\n",
    "import plotly.express as px\n",
    "import plotly.graph_objects as go"
   ]
  },
  {
   "cell_type": "code",
   "execution_count": 17,
   "metadata": {},
   "outputs": [
    {
     "data": {
      "text/html": [
       "<div>\n",
       "<style scoped>\n",
       "    .dataframe tbody tr th:only-of-type {\n",
       "        vertical-align: middle;\n",
       "    }\n",
       "\n",
       "    .dataframe tbody tr th {\n",
       "        vertical-align: top;\n",
       "    }\n",
       "\n",
       "    .dataframe thead th {\n",
       "        text-align: right;\n",
       "    }\n",
       "</style>\n",
       "<table border=\"1\" class=\"dataframe\">\n",
       "  <thead>\n",
       "    <tr style=\"text-align: right;\">\n",
       "      <th></th>\n",
       "      <th>start_time</th>\n",
       "      <th>end_time</th>\n",
       "      <th>start_station_id</th>\n",
       "      <th>end_station_id</th>\n",
       "      <th>start_station_name</th>\n",
       "      <th>end_station_name</th>\n",
       "      <th>bike_id</th>\n",
       "      <th>user_type</th>\n",
       "    </tr>\n",
       "  </thead>\n",
       "  <tbody>\n",
       "    <tr>\n",
       "      <th>3215937</th>\n",
       "      <td>2018-01-01 00:12:00</td>\n",
       "      <td>2018-01-01 00:17:23</td>\n",
       "      <td>69</td>\n",
       "      <td>159</td>\n",
       "      <td>Damen Ave &amp; Pierce Ave</td>\n",
       "      <td>Claremont Ave &amp; Hirsch St</td>\n",
       "      <td>3304</td>\n",
       "      <td>Subscriber</td>\n",
       "    </tr>\n",
       "    <tr>\n",
       "      <th>3215938</th>\n",
       "      <td>2018-01-01 00:41:35</td>\n",
       "      <td>2018-01-01 00:47:52</td>\n",
       "      <td>253</td>\n",
       "      <td>325</td>\n",
       "      <td>Winthrop Ave &amp; Lawrence Ave</td>\n",
       "      <td>Clark St &amp; Winnemac Ave (Temp)</td>\n",
       "      <td>5367</td>\n",
       "      <td>Subscriber</td>\n",
       "    </tr>\n",
       "    <tr>\n",
       "      <th>3215939</th>\n",
       "      <td>2018-01-01 00:44:46</td>\n",
       "      <td>2018-01-01 01:33:10</td>\n",
       "      <td>98</td>\n",
       "      <td>509</td>\n",
       "      <td>LaSalle St &amp; Washington St</td>\n",
       "      <td>Troy St &amp; North Ave</td>\n",
       "      <td>4599</td>\n",
       "      <td>Subscriber</td>\n",
       "    </tr>\n",
       "    <tr>\n",
       "      <th>3215940</th>\n",
       "      <td>2018-01-01 00:53:10</td>\n",
       "      <td>2018-01-01 01:05:37</td>\n",
       "      <td>125</td>\n",
       "      <td>364</td>\n",
       "      <td>Rush St &amp; Hubbard St</td>\n",
       "      <td>Larrabee St &amp; Oak St</td>\n",
       "      <td>2302</td>\n",
       "      <td>Subscriber</td>\n",
       "    </tr>\n",
       "    <tr>\n",
       "      <th>3215941</th>\n",
       "      <td>2018-01-01 00:53:37</td>\n",
       "      <td>2018-01-01 00:56:40</td>\n",
       "      <td>129</td>\n",
       "      <td>205</td>\n",
       "      <td>Blue Island Ave &amp; 18th St</td>\n",
       "      <td>Paulina St &amp; 18th St</td>\n",
       "      <td>3696</td>\n",
       "      <td>Subscriber</td>\n",
       "    </tr>\n",
       "    <tr>\n",
       "      <th>3215942</th>\n",
       "      <td>2018-01-01 00:56:15</td>\n",
       "      <td>2018-01-01 01:00:41</td>\n",
       "      <td>304</td>\n",
       "      <td>299</td>\n",
       "      <td>Broadway &amp; Waveland Ave</td>\n",
       "      <td>Halsted St &amp; Roscoe St</td>\n",
       "      <td>6298</td>\n",
       "      <td>Subscriber</td>\n",
       "    </tr>\n",
       "    <tr>\n",
       "      <th>3215943</th>\n",
       "      <td>2018-01-01 00:57:26</td>\n",
       "      <td>2018-01-01 01:02:40</td>\n",
       "      <td>164</td>\n",
       "      <td>174</td>\n",
       "      <td>Franklin St &amp; Lake St</td>\n",
       "      <td>Canal St &amp; Madison St</td>\n",
       "      <td>1169</td>\n",
       "      <td>Subscriber</td>\n",
       "    </tr>\n",
       "    <tr>\n",
       "      <th>3215944</th>\n",
       "      <td>2018-01-01 01:00:29</td>\n",
       "      <td>2018-01-01 01:13:43</td>\n",
       "      <td>182</td>\n",
       "      <td>142</td>\n",
       "      <td>Wells St &amp; Elm St</td>\n",
       "      <td>McClurg Ct &amp; Erie St</td>\n",
       "      <td>6351</td>\n",
       "      <td>Subscriber</td>\n",
       "    </tr>\n",
       "  </tbody>\n",
       "</table>\n",
       "</div>"
      ],
      "text/plain": [
       "                 start_time            end_time  start_station_id  \\\n",
       "3215937 2018-01-01 00:12:00 2018-01-01 00:17:23                69   \n",
       "3215938 2018-01-01 00:41:35 2018-01-01 00:47:52               253   \n",
       "3215939 2018-01-01 00:44:46 2018-01-01 01:33:10                98   \n",
       "3215940 2018-01-01 00:53:10 2018-01-01 01:05:37               125   \n",
       "3215941 2018-01-01 00:53:37 2018-01-01 00:56:40               129   \n",
       "3215942 2018-01-01 00:56:15 2018-01-01 01:00:41               304   \n",
       "3215943 2018-01-01 00:57:26 2018-01-01 01:02:40               164   \n",
       "3215944 2018-01-01 01:00:29 2018-01-01 01:13:43               182   \n",
       "\n",
       "         end_station_id           start_station_name  \\\n",
       "3215937             159       Damen Ave & Pierce Ave   \n",
       "3215938             325  Winthrop Ave & Lawrence Ave   \n",
       "3215939             509   LaSalle St & Washington St   \n",
       "3215940             364         Rush St & Hubbard St   \n",
       "3215941             205    Blue Island Ave & 18th St   \n",
       "3215942             299      Broadway & Waveland Ave   \n",
       "3215943             174        Franklin St & Lake St   \n",
       "3215944             142            Wells St & Elm St   \n",
       "\n",
       "                       end_station_name  bike_id   user_type  \n",
       "3215937       Claremont Ave & Hirsch St     3304  Subscriber  \n",
       "3215938  Clark St & Winnemac Ave (Temp)     5367  Subscriber  \n",
       "3215939             Troy St & North Ave     4599  Subscriber  \n",
       "3215940            Larrabee St & Oak St     2302  Subscriber  \n",
       "3215941            Paulina St & 18th St     3696  Subscriber  \n",
       "3215942          Halsted St & Roscoe St     6298  Subscriber  \n",
       "3215943           Canal St & Madison St     1169  Subscriber  \n",
       "3215944            McClurg Ct & Erie St     6351  Subscriber  "
      ]
     },
     "execution_count": 17,
     "metadata": {},
     "output_type": "execute_result"
    }
   ],
   "source": [
    "Rides = pd.read_csv(\"chicago_2018.csv\", sep=\",\")\n",
    "\n",
    "Rides[\"start_time\"] = pd.to_datetime(Rides[\"start_time\"])\n",
    "Rides[\"end_time\"] = pd.to_datetime(Rides[\"end_time\"])\n",
    "\n",
    "Rides.sort_values(\"start_time\", inplace = True)\n",
    "Rides.head(8)"
   ]
  },
  {
   "cell_type": "markdown",
   "metadata": {},
   "source": [
    "The following cell is just for double checking the aggregated, hourly rental counts."
   ]
  },
  {
   "cell_type": "code",
   "execution_count": 18,
   "metadata": {},
   "outputs": [
    {
     "data": {
      "text/html": [
       "<div>\n",
       "<style scoped>\n",
       "    .dataframe tbody tr th:only-of-type {\n",
       "        vertical-align: middle;\n",
       "    }\n",
       "\n",
       "    .dataframe tbody tr th {\n",
       "        vertical-align: top;\n",
       "    }\n",
       "\n",
       "    .dataframe thead th {\n",
       "        text-align: right;\n",
       "    }\n",
       "</style>\n",
       "<table border=\"1\" class=\"dataframe\">\n",
       "  <thead>\n",
       "    <tr style=\"text-align: right;\">\n",
       "      <th></th>\n",
       "      <th>start_time</th>\n",
       "      <th>end_time</th>\n",
       "      <th>start_station_id</th>\n",
       "      <th>end_station_id</th>\n",
       "      <th>start_station_name</th>\n",
       "      <th>end_station_name</th>\n",
       "      <th>bike_id</th>\n",
       "      <th>user_type</th>\n",
       "    </tr>\n",
       "  </thead>\n",
       "  <tbody>\n",
       "    <tr>\n",
       "      <th>3215973</th>\n",
       "      <td>2018-01-01 05:32:22</td>\n",
       "      <td>2018-01-01 05:40:04</td>\n",
       "      <td>206</td>\n",
       "      <td>339</td>\n",
       "      <td>Halsted St &amp; Archer Ave</td>\n",
       "      <td>Emerald Ave &amp; 31st St</td>\n",
       "      <td>540</td>\n",
       "      <td>Subscriber</td>\n",
       "    </tr>\n",
       "    <tr>\n",
       "      <th>3215974</th>\n",
       "      <td>2018-01-01 05:46:51</td>\n",
       "      <td>2018-01-01 05:58:48</td>\n",
       "      <td>72</td>\n",
       "      <td>36</td>\n",
       "      <td>Wabash Ave &amp; 16th St</td>\n",
       "      <td>Franklin St &amp; Jackson Blvd</td>\n",
       "      <td>3775</td>\n",
       "      <td>Subscriber</td>\n",
       "    </tr>\n",
       "    <tr>\n",
       "      <th>3215975</th>\n",
       "      <td>2018-01-01 05:48:40</td>\n",
       "      <td>2018-01-01 05:53:01</td>\n",
       "      <td>303</td>\n",
       "      <td>296</td>\n",
       "      <td>Broadway &amp; Cornelia Ave</td>\n",
       "      <td>Broadway &amp; Belmont Ave</td>\n",
       "      <td>4784</td>\n",
       "      <td>Subscriber</td>\n",
       "    </tr>\n",
       "  </tbody>\n",
       "</table>\n",
       "</div>"
      ],
      "text/plain": [
       "                 start_time            end_time  start_station_id  \\\n",
       "3215973 2018-01-01 05:32:22 2018-01-01 05:40:04               206   \n",
       "3215974 2018-01-01 05:46:51 2018-01-01 05:58:48                72   \n",
       "3215975 2018-01-01 05:48:40 2018-01-01 05:53:01               303   \n",
       "\n",
       "         end_station_id       start_station_name            end_station_name  \\\n",
       "3215973             339  Halsted St & Archer Ave       Emerald Ave & 31st St   \n",
       "3215974              36     Wabash Ave & 16th St  Franklin St & Jackson Blvd   \n",
       "3215975             296  Broadway & Cornelia Ave      Broadway & Belmont Ave   \n",
       "\n",
       "         bike_id   user_type  \n",
       "3215973      540  Subscriber  \n",
       "3215974     3775  Subscriber  \n",
       "3215975     4784  Subscriber  "
      ]
     },
     "execution_count": 18,
     "metadata": {},
     "output_type": "execute_result"
    }
   ],
   "source": [
    "date1 = datetime.datetime(year=2018, month=1, day=1, hour = 5)\n",
    "date2 = datetime.datetime(year=2018, month=1, day=1, hour = 6)\n",
    "\n",
    "Rides[(Rides[\"start_time\"] >= date1) & (Rides[\"start_time\"] <= date2)]"
   ]
  },
  {
   "cell_type": "markdown",
   "metadata": {},
   "source": [
    "Computing the hourly demand for 2018. The result is stored in a DataFrame of 24 by 365 = 8760 rows, neglecting time change"
   ]
  },
  {
   "cell_type": "code",
   "execution_count": 19,
   "metadata": {},
   "outputs": [],
   "source": [
    "date_index = date1 + pd.to_timedelta(np.arange(8760), 'H')\n",
    "\n",
    "Features = pd.DataFrame(index = date_index)\n",
    "\n",
    "Features[\"demand\"] = 0\n",
    "\n",
    "Features = Rides.set_index(\"start_time\")\n",
    "Features = Features.resample('H').count()\n",
    "\n",
    "Features.drop(columns = \"start_station_id\", inplace = True)\n",
    "Features.drop(columns = \"end_station_id\", inplace = True)\n",
    "Features.drop(columns = \"start_station_name\", inplace = True)\n",
    "Features.drop(columns = \"end_station_name\", inplace = True)\n",
    "Features.drop(columns = \"bike_id\", inplace = True)\n",
    "Features.drop(columns = \"user_type\", inplace = True)\n",
    "\n",
    "Features.rename(columns = {\"end_time\": \"Rides\"}, inplace = True)"
   ]
  },
  {
   "cell_type": "markdown",
   "metadata": {},
   "source": [
    "The resulting df can be double checked with one of the cells above or with the sorted Rides df. It seems reasonable though:"
   ]
  },
  {
   "cell_type": "code",
   "execution_count": 20,
   "metadata": {},
   "outputs": [
    {
     "data": {
      "text/html": [
       "<div>\n",
       "<style scoped>\n",
       "    .dataframe tbody tr th:only-of-type {\n",
       "        vertical-align: middle;\n",
       "    }\n",
       "\n",
       "    .dataframe tbody tr th {\n",
       "        vertical-align: top;\n",
       "    }\n",
       "\n",
       "    .dataframe thead th {\n",
       "        text-align: right;\n",
       "    }\n",
       "</style>\n",
       "<table border=\"1\" class=\"dataframe\">\n",
       "  <thead>\n",
       "    <tr style=\"text-align: right;\">\n",
       "      <th></th>\n",
       "      <th>Rides</th>\n",
       "    </tr>\n",
       "  </thead>\n",
       "  <tbody>\n",
       "    <tr>\n",
       "      <th>count</th>\n",
       "      <td>8760.000000</td>\n",
       "    </tr>\n",
       "    <tr>\n",
       "      <th>mean</th>\n",
       "      <td>411.310731</td>\n",
       "    </tr>\n",
       "    <tr>\n",
       "      <th>std</th>\n",
       "      <td>479.667282</td>\n",
       "    </tr>\n",
       "    <tr>\n",
       "      <th>min</th>\n",
       "      <td>0.000000</td>\n",
       "    </tr>\n",
       "    <tr>\n",
       "      <th>25%</th>\n",
       "      <td>55.000000</td>\n",
       "    </tr>\n",
       "    <tr>\n",
       "      <th>50%</th>\n",
       "      <td>225.000000</td>\n",
       "    </tr>\n",
       "    <tr>\n",
       "      <th>75%</th>\n",
       "      <td>611.250000</td>\n",
       "    </tr>\n",
       "    <tr>\n",
       "      <th>max</th>\n",
       "      <td>2829.000000</td>\n",
       "    </tr>\n",
       "  </tbody>\n",
       "</table>\n",
       "</div>"
      ],
      "text/plain": [
       "             Rides\n",
       "count  8760.000000\n",
       "mean    411.310731\n",
       "std     479.667282\n",
       "min       0.000000\n",
       "25%      55.000000\n",
       "50%     225.000000\n",
       "75%     611.250000\n",
       "max    2829.000000"
      ]
     },
     "execution_count": 20,
     "metadata": {},
     "output_type": "execute_result"
    }
   ],
   "source": [
    "Features.describe()"
   ]
  },
  {
   "cell_type": "code",
   "execution_count": 21,
   "metadata": {},
   "outputs": [
    {
     "data": {
      "text/html": [
       "<div>\n",
       "<style scoped>\n",
       "    .dataframe tbody tr th:only-of-type {\n",
       "        vertical-align: middle;\n",
       "    }\n",
       "\n",
       "    .dataframe tbody tr th {\n",
       "        vertical-align: top;\n",
       "    }\n",
       "\n",
       "    .dataframe thead th {\n",
       "        text-align: right;\n",
       "    }\n",
       "</style>\n",
       "<table border=\"1\" class=\"dataframe\">\n",
       "  <thead>\n",
       "    <tr style=\"text-align: right;\">\n",
       "      <th></th>\n",
       "      <th>Rides</th>\n",
       "    </tr>\n",
       "    <tr>\n",
       "      <th>start_time</th>\n",
       "      <th></th>\n",
       "    </tr>\n",
       "  </thead>\n",
       "  <tbody>\n",
       "    <tr>\n",
       "      <th>2018-01-01 00:00:00</th>\n",
       "      <td>7</td>\n",
       "    </tr>\n",
       "    <tr>\n",
       "      <th>2018-01-01 01:00:00</th>\n",
       "      <td>15</td>\n",
       "    </tr>\n",
       "    <tr>\n",
       "      <th>2018-01-01 02:00:00</th>\n",
       "      <td>10</td>\n",
       "    </tr>\n",
       "    <tr>\n",
       "      <th>2018-01-01 03:00:00</th>\n",
       "      <td>2</td>\n",
       "    </tr>\n",
       "    <tr>\n",
       "      <th>2018-01-01 04:00:00</th>\n",
       "      <td>2</td>\n",
       "    </tr>\n",
       "  </tbody>\n",
       "</table>\n",
       "</div>"
      ],
      "text/plain": [
       "                     Rides\n",
       "start_time                \n",
       "2018-01-01 00:00:00      7\n",
       "2018-01-01 01:00:00     15\n",
       "2018-01-01 02:00:00     10\n",
       "2018-01-01 03:00:00      2\n",
       "2018-01-01 04:00:00      2"
      ]
     },
     "execution_count": 21,
     "metadata": {},
     "output_type": "execute_result"
    }
   ],
   "source": [
    "Features.head()"
   ]
  },
  {
   "cell_type": "code",
   "execution_count": 22,
   "metadata": {},
   "outputs": [
    {
     "data": {
      "text/plain": [
       "7"
      ]
     },
     "execution_count": 22,
     "metadata": {},
     "output_type": "execute_result"
    }
   ],
   "source": [
    "x = Features.iloc[0][\"Rides\"]\n",
    "x"
   ]
  },
  {
   "cell_type": "code",
   "execution_count": 23,
   "metadata": {},
   "outputs": [],
   "source": [
    "Features[\"Rides_last_hour\"] = 0\n",
    "value = Features.iloc[0][\"Rides\"]\n",
    "for i in Features.index:     \n",
    "        Features.loc[i,\"Rides_last_hour\"] = value\n",
    "        value = Features.loc[i][\"Rides\"]"
   ]
  },
  {
   "cell_type": "markdown",
   "metadata": {},
   "source": [
    "There seems to be some erroneous data in the weather data set as there are rows which exhibit the same date, leading pandas to crash. (e.g. for index 1662, if duplicates were not removed.)"
   ]
  },
  {
   "cell_type": "code",
   "execution_count": 24,
   "metadata": {},
   "outputs": [
    {
     "data": {
      "text/html": [
       "<div>\n",
       "<style scoped>\n",
       "    .dataframe tbody tr th:only-of-type {\n",
       "        vertical-align: middle;\n",
       "    }\n",
       "\n",
       "    .dataframe tbody tr th {\n",
       "        vertical-align: top;\n",
       "    }\n",
       "\n",
       "    .dataframe thead th {\n",
       "        text-align: right;\n",
       "    }\n",
       "</style>\n",
       "<table border=\"1\" class=\"dataframe\">\n",
       "  <thead>\n",
       "    <tr style=\"text-align: right;\">\n",
       "      <th></th>\n",
       "      <th>date_time</th>\n",
       "      <th>max_temp</th>\n",
       "      <th>min_temp</th>\n",
       "      <th>precip</th>\n",
       "    </tr>\n",
       "  </thead>\n",
       "  <tbody>\n",
       "    <tr>\n",
       "      <th>0</th>\n",
       "      <td>2015-01-02 01:00:00</td>\n",
       "      <td>-1.7</td>\n",
       "      <td>-1.7</td>\n",
       "      <td>0.0</td>\n",
       "    </tr>\n",
       "    <tr>\n",
       "      <th>1</th>\n",
       "      <td>2015-01-02 02:00:00</td>\n",
       "      <td>-2.2</td>\n",
       "      <td>-2.2</td>\n",
       "      <td>0.0</td>\n",
       "    </tr>\n",
       "    <tr>\n",
       "      <th>2</th>\n",
       "      <td>2015-01-02 03:00:00</td>\n",
       "      <td>-2.8</td>\n",
       "      <td>-2.8</td>\n",
       "      <td>0.0</td>\n",
       "    </tr>\n",
       "    <tr>\n",
       "      <th>3</th>\n",
       "      <td>2015-01-02 04:00:00</td>\n",
       "      <td>-3.3</td>\n",
       "      <td>-3.3</td>\n",
       "      <td>0.0</td>\n",
       "    </tr>\n",
       "    <tr>\n",
       "      <th>4</th>\n",
       "      <td>2015-01-02 05:00:00</td>\n",
       "      <td>-4.4</td>\n",
       "      <td>-4.4</td>\n",
       "      <td>0.0</td>\n",
       "    </tr>\n",
       "  </tbody>\n",
       "</table>\n",
       "</div>"
      ],
      "text/plain": [
       "             date_time  max_temp  min_temp  precip\n",
       "0  2015-01-02 01:00:00      -1.7      -1.7     0.0\n",
       "1  2015-01-02 02:00:00      -2.2      -2.2     0.0\n",
       "2  2015-01-02 03:00:00      -2.8      -2.8     0.0\n",
       "3  2015-01-02 04:00:00      -3.3      -3.3     0.0\n",
       "4  2015-01-02 05:00:00      -4.4      -4.4     0.0"
      ]
     },
     "execution_count": 24,
     "metadata": {},
     "output_type": "execute_result"
    }
   ],
   "source": [
    "Weather = pd.read_csv(\"weather_hourly_chicago.csv\", sep=\",\")\n",
    "Weather.head(5)"
   ]
  },
  {
   "cell_type": "code",
   "execution_count": 25,
   "metadata": {},
   "outputs": [
    {
     "data": {
      "text/html": [
       "<div>\n",
       "<style scoped>\n",
       "    .dataframe tbody tr th:only-of-type {\n",
       "        vertical-align: middle;\n",
       "    }\n",
       "\n",
       "    .dataframe tbody tr th {\n",
       "        vertical-align: top;\n",
       "    }\n",
       "\n",
       "    .dataframe thead th {\n",
       "        text-align: right;\n",
       "    }\n",
       "</style>\n",
       "<table border=\"1\" class=\"dataframe\">\n",
       "  <thead>\n",
       "    <tr style=\"text-align: right;\">\n",
       "      <th></th>\n",
       "      <th>date_time</th>\n",
       "      <th>max_temp</th>\n",
       "      <th>min_temp</th>\n",
       "      <th>precip</th>\n",
       "    </tr>\n",
       "  </thead>\n",
       "  <tbody>\n",
       "    <tr>\n",
       "      <th>43843</th>\n",
       "      <td>2020-01-01 20:00:00</td>\n",
       "      <td>4.4</td>\n",
       "      <td>4.4</td>\n",
       "      <td>0.0</td>\n",
       "    </tr>\n",
       "    <tr>\n",
       "      <th>43844</th>\n",
       "      <td>2020-01-01 21:00:00</td>\n",
       "      <td>5.0</td>\n",
       "      <td>5.0</td>\n",
       "      <td>0.0</td>\n",
       "    </tr>\n",
       "    <tr>\n",
       "      <th>43845</th>\n",
       "      <td>2020-01-01 22:00:00</td>\n",
       "      <td>5.0</td>\n",
       "      <td>5.0</td>\n",
       "      <td>0.0</td>\n",
       "    </tr>\n",
       "    <tr>\n",
       "      <th>43846</th>\n",
       "      <td>2020-01-01 23:00:00</td>\n",
       "      <td>4.4</td>\n",
       "      <td>4.4</td>\n",
       "      <td>0.0</td>\n",
       "    </tr>\n",
       "    <tr>\n",
       "      <th>43847</th>\n",
       "      <td>2020-01-02 00:00:00</td>\n",
       "      <td>4.4</td>\n",
       "      <td>4.4</td>\n",
       "      <td>0.0</td>\n",
       "    </tr>\n",
       "  </tbody>\n",
       "</table>\n",
       "</div>"
      ],
      "text/plain": [
       "                 date_time  max_temp  min_temp  precip\n",
       "43843  2020-01-01 20:00:00       4.4       4.4     0.0\n",
       "43844  2020-01-01 21:00:00       5.0       5.0     0.0\n",
       "43845  2020-01-01 22:00:00       5.0       5.0     0.0\n",
       "43846  2020-01-01 23:00:00       4.4       4.4     0.0\n",
       "43847  2020-01-02 00:00:00       4.4       4.4     0.0"
      ]
     },
     "execution_count": 25,
     "metadata": {},
     "output_type": "execute_result"
    }
   ],
   "source": [
    "Weather.tail(5)"
   ]
  },
  {
   "cell_type": "code",
   "execution_count": 26,
   "metadata": {},
   "outputs": [
    {
     "data": {
      "text/plain": [
       "43848"
      ]
     },
     "execution_count": 26,
     "metadata": {},
     "output_type": "execute_result"
    }
   ],
   "source": [
    "len(Weather)"
   ]
  },
  {
   "cell_type": "code",
   "execution_count": 27,
   "metadata": {},
   "outputs": [
    {
     "data": {
      "text/plain": [
       "date_time    60\n",
       "max_temp     60\n",
       "min_temp     60\n",
       "precip       58\n",
       "dtype: int64"
      ]
     },
     "execution_count": 27,
     "metadata": {},
     "output_type": "execute_result"
    }
   ],
   "source": [
    "Weather.isna().sum()"
   ]
  },
  {
   "cell_type": "code",
   "execution_count": 28,
   "metadata": {},
   "outputs": [
    {
     "data": {
      "text/html": [
       "<div>\n",
       "<style scoped>\n",
       "    .dataframe tbody tr th:only-of-type {\n",
       "        vertical-align: middle;\n",
       "    }\n",
       "\n",
       "    .dataframe tbody tr th {\n",
       "        vertical-align: top;\n",
       "    }\n",
       "\n",
       "    .dataframe thead th {\n",
       "        text-align: right;\n",
       "    }\n",
       "</style>\n",
       "<table border=\"1\" class=\"dataframe\">\n",
       "  <thead>\n",
       "    <tr style=\"text-align: right;\">\n",
       "      <th></th>\n",
       "      <th>avg_tmp</th>\n",
       "      <th>is_raining</th>\n",
       "    </tr>\n",
       "    <tr>\n",
       "      <th>date_time</th>\n",
       "      <th></th>\n",
       "      <th></th>\n",
       "    </tr>\n",
       "  </thead>\n",
       "  <tbody>\n",
       "    <tr>\n",
       "      <th>2015-01-02 01:00:00</th>\n",
       "      <td>-1.7</td>\n",
       "      <td>False</td>\n",
       "    </tr>\n",
       "    <tr>\n",
       "      <th>2015-01-02 02:00:00</th>\n",
       "      <td>-2.2</td>\n",
       "      <td>False</td>\n",
       "    </tr>\n",
       "    <tr>\n",
       "      <th>2015-01-02 03:00:00</th>\n",
       "      <td>-2.8</td>\n",
       "      <td>False</td>\n",
       "    </tr>\n",
       "    <tr>\n",
       "      <th>2015-01-02 04:00:00</th>\n",
       "      <td>-3.3</td>\n",
       "      <td>False</td>\n",
       "    </tr>\n",
       "    <tr>\n",
       "      <th>2015-01-02 05:00:00</th>\n",
       "      <td>-4.4</td>\n",
       "      <td>False</td>\n",
       "    </tr>\n",
       "  </tbody>\n",
       "</table>\n",
       "</div>"
      ],
      "text/plain": [
       "                     avg_tmp  is_raining\n",
       "date_time                               \n",
       "2015-01-02 01:00:00     -1.7       False\n",
       "2015-01-02 02:00:00     -2.2       False\n",
       "2015-01-02 03:00:00     -2.8       False\n",
       "2015-01-02 04:00:00     -3.3       False\n",
       "2015-01-02 05:00:00     -4.4       False"
      ]
     },
     "execution_count": 28,
     "metadata": {},
     "output_type": "execute_result"
    }
   ],
   "source": [
    "Weather[\"avg_tmp\"] = (Weather[\"max_temp\"]+Weather[\"min_temp\"])/2\n",
    "Weather[\"is_raining\"] = Weather[\"precip\"] == 1\n",
    "Weather.drop(columns = [\"max_temp\", \"min_temp\", \"precip\"], inplace=True)\n",
    "\n",
    "Weather[\"date_time\"] = pd.to_datetime(Weather[\"date_time\"])\n",
    "\n",
    "Weather.set_index(\"date_time\", inplace = True)\n",
    "Weather.head(5)"
   ]
  },
  {
   "cell_type": "code",
   "execution_count": null,
   "metadata": {},
   "outputs": [],
   "source": [
    "Features = Features.join(Weather, on=\"start_time\")"
   ]
  },
  {
   "cell_type": "markdown",
   "metadata": {},
   "source": [
    "Lots of missing values for weather, imputation methods:\n",
    "\n",
    "* numerical values: linear interpolation (time series data)\n",
    "* categorical (is_raining): backwards-fill"
   ]
  },
  {
   "cell_type": "code",
   "execution_count": null,
   "metadata": {},
   "outputs": [],
   "source": [
    "Features.interpolate(inplace=True)\n",
    "Features.fillna(method=\"bfill\",inplace=True)"
   ]
  },
  {
   "cell_type": "code",
   "execution_count": null,
   "metadata": {},
   "outputs": [],
   "source": [
    "Features[Features[\"is_raining\"].isnull()]"
   ]
  },
  {
   "cell_type": "code",
   "execution_count": null,
   "metadata": {},
   "outputs": [],
   "source": [
    "len(Features[Features[\"is_raining\"] == True])"
   ]
  },
  {
   "cell_type": "code",
   "execution_count": null,
   "metadata": {},
   "outputs": [],
   "source": [
    "Features.describe()"
   ]
  },
  {
   "cell_type": "code",
   "execution_count": null,
   "metadata": {},
   "outputs": [],
   "source": [
    "Features.reset_index(inplace=True)"
   ]
  },
  {
   "cell_type": "code",
   "execution_count": null,
   "metadata": {},
   "outputs": [],
   "source": [
    "Features[\"is_workday\"] = Features[\"start_time\"].apply(lambda x: x.weekday() < 5)\n",
    "Features[\"hour\"] = Features[\"start_time\"].apply(lambda x: x.hour)\n",
    "Features[\"month\"] = Features[\"start_time\"].apply(lambda x: x.month)"
   ]
  },
  {
   "cell_type": "code",
   "execution_count": null,
   "metadata": {},
   "outputs": [],
   "source": [
    "def getSeason(month):\n",
    "    \n",
    "    Winter = [12, 1, 2]\n",
    "    Spring = [3, 4, 5]\n",
    "    Summer = [6, 7, 8]\n",
    "    Fall = [9, 10, 11]\n",
    "    \n",
    "    if month in Winter:\n",
    "        return 1\n",
    "    elif month in Spring:\n",
    "        return 2\n",
    "    elif month in Summer:\n",
    "        return 3\n",
    "    elif month in Fall:\n",
    "        return 4\n",
    "    \n",
    "Features[\"season\"] = Features[\"month\"].apply(lambda month: getSeason(month))"
   ]
  },
  {
   "cell_type": "code",
   "execution_count": null,
   "metadata": {},
   "outputs": [],
   "source": [
    "seasons = pd.get_dummies(Features[\"season\"],prefix=\"season_\")\n",
    "seasons.drop(columns=\"season__4\", inplace=True)"
   ]
  },
  {
   "cell_type": "code",
   "execution_count": null,
   "metadata": {},
   "outputs": [],
   "source": [
    "Features[list(seasons.columns)] = seasons"
   ]
  },
  {
   "cell_type": "code",
   "execution_count": null,
   "metadata": {},
   "outputs": [],
   "source": [
    "hours = pd.get_dummies(Features[\"hour\"],prefix=\"hour_\")\n",
    "hours.drop(columns=\"hour__23\", inplace=True)"
   ]
  },
  {
   "cell_type": "code",
   "execution_count": null,
   "metadata": {},
   "outputs": [],
   "source": [
    "Features[list(hours.columns)] = hours"
   ]
  },
  {
   "cell_type": "code",
   "execution_count": null,
   "metadata": {},
   "outputs": [],
   "source": [
    "Features.drop(columns=[\"season\",\"month\",\"hour\"], inplace=True)"
   ]
  },
  {
   "cell_type": "code",
   "execution_count": null,
   "metadata": {},
   "outputs": [],
   "source": [
    "Features"
   ]
  },
  {
   "cell_type": "markdown",
   "metadata": {},
   "source": [
    "Re-Scaling the data"
   ]
  },
  {
   "cell_type": "code",
   "execution_count": null,
   "metadata": {},
   "outputs": [],
   "source": [
    "Features_rescaled = pd.DataFrame()\n",
    "\n",
    "Features_rescaled[\"Rides\"] = (Features[\"Rides\"] - Features[\"Rides\"].min()) / (Features[\"Rides\"].max() - Features[\"Rides\"].min())\n",
    "Features_rescaled[\"Rides_last_hour\"] = (Features[\"Rides_last_hour\"] - Features[\"Rides_last_hour\"].min()) / (Features[\"Rides_last_hour\"].max() - Features[\"Rides_last_hour\"].min())\n",
    "Features_rescaled[\"Max_temp\"] = (Features[\"Max_temp\"] - Features[\"Max_temp\"].min()) / (Features[\"Max_temp\"].max() - Features[\"Max_temp\"].min())\n",
    "Features_rescaled[\"Min_temp\"] = (Features[\"Min_temp\"] - Features[\"Min_temp\"].min()) / (Features[\"Min_temp\"].max() - Features[\"Min_temp\"].min())\n",
    "Features_rescaled[\"Precipitation\"] = (Features[\"Precipitation\"] - Features[\"Precipitation\"].min()) / (Features[\"Precipitation\"].max() - Features[\"Precipitation\"].min())\n",
    "Features_rescaled[\"Day_of_Week\"] = (Features[\"Day_of_Week\"] - Features[\"Day_of_Week\"].min()) / (Features[\"Day_of_Week\"].max() - Features[\"Day_of_Week\"].min())\n",
    "Features_rescaled[\"Hour\"] = (Features[\"Hour\"] - Features[\"Hour\"].min()) / (Features[\"Hour\"].max() - Features[\"Hour\"].min())\n",
    "Features_rescaled[\"Month\"] = (Features[\"Month\"] - Features[\"Month\"].min()) / (Features[\"Month\"].max() - Features[\"Month\"].min())\n",
    "Features_rescaled[\"Season\"] = (Features[\"Season\"] - Features[\"Season\"].min()) / (Features[\"Season\"].max() - Features[\"Season\"].min())\n",
    "\n",
    "Features_rescaled.head()"
   ]
  },
  {
   "cell_type": "code",
   "execution_count": null,
   "metadata": {},
   "outputs": [],
   "source": [
    "\n",
    "fig = go.Figure()\n",
    "fig.add_trace(go.Scatter(x=Features[\"start_time\"], y=Features_rescaled[\"Rides\"],\n",
    "                    mode='lines',\n",
    "                    name='Demand'))\n",
    "fig.add_trace(go.Scatter(x=Features[\"start_time\"], y=Features_rescaled[\"Max_temp\"],\n",
    "                    mode='lines+markers',\n",
    "                    name='Max. Temperature'))\n",
    "\n",
    "fig.show()"
   ]
  },
  {
   "cell_type": "code",
   "execution_count": null,
   "metadata": {},
   "outputs": [],
   "source": [
    "sns.jointplot(x = \"avg_tmp\", y = \"Rides\", data = Features, kind = \"hex\", height=10, palette = \"magma\")"
   ]
  },
  {
   "cell_type": "code",
   "execution_count": null,
   "metadata": {},
   "outputs": [],
   "source": [
    "sns.pairplot(Features, palette=\"magma\", height=3, hue=\"is_raining\")\n",
    "plt.show()"
   ]
  },
  {
   "cell_type": "code",
   "execution_count": null,
   "metadata": {},
   "outputs": [],
   "source": [
    "Features.cov()"
   ]
  },
  {
   "cell_type": "code",
   "execution_count": null,
   "metadata": {},
   "outputs": [],
   "source": [
    "Features_corr = Features.corr()\n",
    "Features_corr"
   ]
  },
  {
   "cell_type": "code",
   "execution_count": null,
   "metadata": {},
   "outputs": [],
   "source": [
    "sns.heatmap(Features_corr, \n",
    "        xticklabels=Features_corr.columns,\n",
    "        yticklabels=Features_corr.columns)"
   ]
  },
  {
   "cell_type": "markdown",
   "metadata": {},
   "source": [
    "[Source](https://stackoverflow.com/questions/39409866/correlation-heatmap) for the following code:"
   ]
  },
  {
   "cell_type": "code",
   "execution_count": null,
   "metadata": {},
   "outputs": [],
   "source": [
    "cmap = cmap=sns.diverging_palette(5, 250, as_cmap=True)\n",
    "\n",
    "def magnify():\n",
    "    return [dict(selector=\"th\",\n",
    "                 props=[(\"font-size\", \"7pt\")]),\n",
    "            dict(selector=\"td\",\n",
    "                 props=[('padding', \"0em 0em\")]),\n",
    "            dict(selector=\"th:hover\",\n",
    "                 props=[(\"font-size\", \"12pt\")]),\n",
    "            dict(selector=\"tr:hover td:hover\",\n",
    "                 props=[('max-width', '200px'),\n",
    "                        ('font-size', '12pt')])\n",
    "]\n",
    "\n",
    "Features_corr.style.background_gradient(cmap, axis=1)\\\n",
    "    .set_properties(**{'max-width': '80px', 'font-size': '10pt'})\\\n",
    "    .set_caption(\"Hover to magify\")\\\n",
    "    .set_precision(2)\\\n",
    "    .set_table_styles(magnify())"
   ]
  },
  {
   "cell_type": "code",
   "execution_count": null,
   "metadata": {},
   "outputs": [],
   "source": [
    "Features_rescaled.var()"
   ]
  },
  {
   "cell_type": "code",
   "execution_count": null,
   "metadata": {},
   "outputs": [],
   "source": [
    "Features_sample = Features[3100:3220]\n",
    "Features_sample = Features_sample[Features[\"avg_tmp\"] != 0]\n",
    "#Features_sample = Features.sample(n=125)\n",
    "#Features_sample = Features_sample[Features[\"Max_temp\"] != 0]\n",
    "\n",
    "sns.scatterplot(x = Features_sample[\"avg_tmp\"], y = Features_sample[\"Rides\"], hue = Features_sample[\"is_raining\"])"
   ]
  },
  {
   "cell_type": "code",
   "execution_count": null,
   "metadata": {},
   "outputs": [],
   "source": [
    "fig = px.density_heatmap(Features, x='avg_tmp', y='Rides', width=600, height=600,\n",
    "                      title='Correlation between Temperature and Demand', color_continuous_scale=[[0.0, 'white'], [1.0, 'red']],\n",
    "                        nbinsx=25, nbinsy=25)\n",
    "fig.show()"
   ]
  },
  {
   "cell_type": "code",
   "execution_count": null,
   "metadata": {},
   "outputs": [],
   "source": [
    "fig = px.parallel_coordinates(data_frame = Features, dimensions =[\"\"])\n",
    "\n",
    "fig.show()"
   ]
  },
  {
   "cell_type": "code",
   "execution_count": null,
   "metadata": {},
   "outputs": [],
   "source": [
    "fig = px.scatter_3d(data_frame = Features_sample, z='Max_temp', x='Rides', y='Hour', color='Precipitation', opacity=0.4, size_max=5)\n",
    "\n",
    "fig.show()"
   ]
  },
  {
   "cell_type": "code",
   "execution_count": null,
   "metadata": {},
   "outputs": [],
   "source": [
    "fig = px.scatter_3d(data_frame = Features_sample, z='Max_temp', x='Rides', y='Rides_last_hour', color='Precipitation', opacity=0.4, size_max=5)\n",
    "\n",
    "fig.show()"
   ]
  },
  {
   "cell_type": "markdown",
   "metadata": {},
   "source": [
    "# Modeling"
   ]
  },
  {
   "cell_type": "code",
   "execution_count": null,
   "metadata": {},
   "outputs": [],
   "source": [
    "from sklearn.model_selection import train_test_split"
   ]
  },
  {
   "cell_type": "code",
   "execution_count": null,
   "metadata": {},
   "outputs": [],
   "source": [
    "# split the data with 70-30% split as above\n",
    "\n",
    "X = Features[Features.columns[(Features.columns != \"Rides\") & (Features.columns != \"start_time\")]]\n",
    "y = Features[[\"Rides\"]]\n",
    "X,y\n",
    "x_train, x_test, y_train, y_test = train_test_split(X, y, test_size=0.3,random_state=42)\n",
    "X"
   ]
  },
  {
   "cell_type": "code",
   "execution_count": null,
   "metadata": {},
   "outputs": [],
   "source": [
    "y"
   ]
  },
  {
   "cell_type": "code",
   "execution_count": null,
   "metadata": {},
   "outputs": [],
   "source": [
    "x_train, x_test, y_train, y_test"
   ]
  },
  {
   "cell_type": "markdown",
   "metadata": {},
   "source": [
    "fangt hier an..."
   ]
  },
  {
   "cell_type": "markdown",
   "metadata": {},
   "source": [
    "### Multi-dimensional linear regression"
   ]
  },
  {
   "cell_type": "markdown",
   "metadata": {},
   "source": [
    "Let's now try to train a mulit-dimensional linear model. But first of all, we need to import a few missing libraries."
   ]
  },
  {
   "cell_type": "code",
   "execution_count": null,
   "metadata": {},
   "outputs": [],
   "source": [
    "from sklearn.linear_model import LinearRegression\n",
    "from sklearn.metrics import mean_squared_error, mean_absolute_error, r2_score"
   ]
  },
  {
   "cell_type": "markdown",
   "metadata": {},
   "source": [
    "In order to be able to use sklearn, we need to eliminate booleans in our data first."
   ]
  },
  {
   "cell_type": "code",
   "execution_count": null,
   "metadata": {},
   "outputs": [],
   "source": [
    "def workday_check (dt):\n",
    "    \n",
    "    if dt == True:\n",
    "        return 1\n",
    "    else:\n",
    "        return 0\n",
    "\n",
    "Features[\"is_workday\"] = Features[\"is_workday\"].apply(lambda dt: workday_check(dt))\n",
    "\n",
    "def raining_check (dt):\n",
    "    \n",
    "    if dt == True:\n",
    "        return 1\n",
    "    else:\n",
    "        return 0\n",
    "\n",
    "Features[\"is_raining\"] = Features[\"is_raining\"].apply(lambda dt: raining_check(dt))"
   ]
  },
  {
   "cell_type": "code",
   "execution_count": null,
   "metadata": {},
   "outputs": [],
   "source": [
    "# split the data with 70-30% split as above\n",
    "\n",
    "X = Features[Features.columns[(Features.columns != \"Rides\") & (Features.columns != \"start_time\")]]\n",
    "y = Features[[\"Rides\"]]\n",
    "X,y\n",
    "x_train, x_test, y_train, y_test = train_test_split(X, y, test_size=0.3,random_state=42)\n",
    "X"
   ]
  },
  {
   "cell_type": "markdown",
   "metadata": {},
   "source": [
    "Now the same for average temperature and precipitation"
   ]
  },
  {
   "cell_type": "code",
   "execution_count": null,
   "metadata": {},
   "outputs": [],
   "source": [
    "x_train2 = x_train[[\"is_raining\",\"avg_tmp\"]]  #Fist select only two features for the sake of simlicity\n",
    "lin_mod_day = LinearRegression()\n",
    "lin_mod_day.fit(x_train2,y_train)\n",
    "print(lin_mod_day.coef_, lin_mod_day.intercept_)\n",
    "\n",
    "print()"
   ]
  },
  {
   "cell_type": "code",
   "execution_count": null,
   "metadata": {},
   "outputs": [],
   "source": [
    "X_raining = x_train2[x_train2[\"is_raining\"]==1]\n",
    "X_nraining = x_train2[x_train2[\"is_raining\"]==0]\n",
    "\n",
    "y_pred_raining = lin_mod_day.predict(X_raining)\n",
    "y_pred_nraining = lin_mod_day.predict(X_nraining)\n",
    "\n",
    "plt.figure(figsize = (16,9))\n",
    "\n",
    "plt.scatter(X_nraining[\"avg_tmp\"], \n",
    "            y_train[x_train2[\"is_raining\"]==False][\"Rides\"], \n",
    "            marker=\"x\", label=\"Not raining\")\n",
    "\n",
    "plt.scatter(X_raining[\"avg_tmp\"], \n",
    "            y_train[x_train2[\"is_raining\"]==True][\"Rides\"], \n",
    "            marker=\"+\", label=\"Raining\")\n",
    "\n",
    "\n",
    "plt.plot(X_raining[\"avg_tmp\"], \n",
    "         y_pred_raining,color=\"orange\", \n",
    "         label=\"Raining Prediction\")\n",
    "\n",
    "plt.plot(X_nraining[\"avg_tmp\"], \n",
    "         y_pred_nraining, \n",
    "         label=\"Not raining Prediction\")\n",
    "\n",
    "plt.xlabel(\"Average Temperature\")\n",
    "plt.ylabel(\"Rides\")\n",
    "\n",
    "plt.legend()\n",
    "plt.show()"
   ]
  },
  {
   "cell_type": "markdown",
   "metadata": {},
   "source": [
    "Ignore everything above, now the correct stuff"
   ]
  },
  {
   "cell_type": "code",
   "execution_count": null,
   "metadata": {},
   "outputs": [],
   "source": [
    "lin_mod = LinearRegression()\n",
    "lin_mod.fit(x_train,y_train)\n",
    "print(lin_mod_day.coef_, lin_mod_day.intercept_)\n",
    "\n",
    "v = x_test.values\n",
    "y_true = y_test\n",
    "y_pred = lin_mod.predict(v)"
   ]
  },
  {
   "cell_type": "code",
   "execution_count": null,
   "metadata": {},
   "outputs": [],
   "source": [
    "print(\"Mean Squared Error:\",mean_squared_error(y_pred, y_true),\"Rides^2\")\n",
    "print(\"Root Mean Squared Error:\",mean_squared_error(y_pred, y_true)**0.5,\"Rides\")\n",
    "print(\"Mean Absolute Error:\",mean_absolute_error(y_pred, y_true),\"Rides\")\n",
    "print(\"Coefficient of determination:\",r2_score(y_pred, y_true))"
   ]
  },
  {
   "cell_type": "markdown",
   "metadata": {},
   "source": [
    "Let's try to get a better R^2 score by reducing the input features"
   ]
  },
  {
   "cell_type": "code",
   "execution_count": null,
   "metadata": {},
   "outputs": [],
   "source": [
    "# split the data with 70-30% split as above\n",
    "\n",
    "X = Features[Features.columns[(Features.columns != \"Rides\") & (Features.columns != \"start_time\") & (Features.columns != \"Rides_last_hour\")]]\n",
    "y = Features[[\"Rides\"]]\n",
    "X,y\n",
    "x_train, x_test, y_train, y_test = train_test_split(X, y, test_size=0.3,random_state=42)\n",
    "X"
   ]
  },
  {
   "cell_type": "code",
   "execution_count": null,
   "metadata": {},
   "outputs": [],
   "source": [
    "lin_mod = LinearRegression()\n",
    "lin_mod.fit(x_train,y_train)\n",
    "print(lin_mod_day.coef_, lin_mod_day.intercept_)\n",
    "\n",
    "v = x_test.values\n",
    "y_true = y_test\n",
    "y_pred = lin_mod.predict(v)"
   ]
  },
  {
   "cell_type": "code",
   "execution_count": null,
   "metadata": {},
   "outputs": [],
   "source": [
    "print(\"Mean Squared Error:\",mean_squared_error(y_pred, y_true),\"Rides^2\")\n",
    "print(\"Root Mean Squared Error:\",mean_squared_error(y_pred, y_true)**0.5,\"Rides\")\n",
    "print(\"Mean Absolute Error:\",mean_absolute_error(y_pred, y_true),\"Rides\")\n",
    "print(\"Coefficient of determination:\",r2_score(y_pred, y_true))"
   ]
  },
  {
   "cell_type": "markdown",
   "metadata": {},
   "source": [
    "In this particular feature configuartion, leaving out the rides_last_hour feature significantly decreases the R^2 score by around 38 percentage points. Thus let's try some more configurations."
   ]
  },
  {
   "cell_type": "code",
   "execution_count": null,
   "metadata": {},
   "outputs": [],
   "source": [
    "# split the data with 70-30% split as above\n",
    "\n",
    "X = Features[Features.columns[(Features.columns != \"Rides\") & (Features.columns != \"start_time\") & (Features.columns != \"is_workday\")]]\n",
    "y = Features[[\"Rides\"]]\n",
    "X,y\n",
    "x_train, x_test, y_train, y_test = train_test_split(X, y, test_size=0.3,random_state=42)\n",
    "X"
   ]
  },
  {
   "cell_type": "code",
   "execution_count": null,
   "metadata": {},
   "outputs": [],
   "source": [
    "lin_mod = LinearRegression()\n",
    "lin_mod.fit(x_train,y_train)\n",
    "print(lin_mod_day.coef_, lin_mod_day.intercept_)\n",
    "\n",
    "v = x_test.values\n",
    "y_true = y_test\n",
    "y_pred = lin_mod.predict(v)"
   ]
  },
  {
   "cell_type": "code",
   "execution_count": null,
   "metadata": {},
   "outputs": [],
   "source": [
    "print(\"Mean Squared Error:\",mean_squared_error(y_pred, y_true),\"Rides^2\")\n",
    "print(\"Root Mean Squared Error:\",mean_squared_error(y_pred, y_true)**0.5,\"Rides\")\n",
    "print(\"Mean Absolute Error:\",mean_absolute_error(y_pred, y_true),\"Rides\")\n",
    "print(\"Coefficient of determination:\",r2_score(y_pred, y_true))"
   ]
  },
  {
   "cell_type": "markdown",
   "metadata": {},
   "source": [
    "As seen above, leaving out the is_workday feature does not affect our R^2 score that much. It only decreases it by around 0.001 percentage points."
   ]
  },
  {
   "cell_type": "code",
   "execution_count": null,
   "metadata": {},
   "outputs": [],
   "source": [
    "# split the data with 70-30% split as above\n",
    "\n",
    "X = Features[Features.columns[(Features.columns != \"Rides\") & (Features.columns != \"start_time\") ]]\n",
    "y = Features[[\"Rides\"]]\n",
    "X,y\n",
    "x_train, x_test, y_train, y_test = train_test_split(X, y, test_size=0.3,random_state=42)\n",
    "X\n",
    "\n",
    "\n",
    "\n",
    "lin_mod = LinearRegression()\n",
    "lin_mod.fit(x_train,y_train)\n",
    "print(lin_mod_day.coef_, lin_mod_day.intercept_)\n",
    "\n",
    "v = x_test.values\n",
    "y_true = y_test\n",
    "y_pred = lin_mod.predict(v)\n",
    "\n",
    "\n",
    "\n",
    "print(\"Mean Squared Error:\",mean_squared_error(y_pred, y_true),\"Rides^2\")\n",
    "print(\"Root Mean Squared Error:\",mean_squared_error(y_pred, y_true)**0.5,\"Rides\")\n",
    "print(\"Mean Absolute Error:\",mean_absolute_error(y_pred, y_true),\"Rides\")\n",
    "print(\"Coefficient of determination:\",r2_score(y_pred, y_true))"
   ]
  },
  {
   "cell_type": "code",
   "execution_count": null,
   "metadata": {},
   "outputs": [],
   "source": []
  },
  {
   "cell_type": "code",
   "execution_count": null,
   "metadata": {},
   "outputs": [],
   "source": []
  }
 ],
 "metadata": {
  "kernelspec": {
   "display_name": "Python 3",
   "language": "python",
   "name": "python3"
  },
  "language_info": {
   "codemirror_mode": {
    "name": "ipython",
    "version": 3
   },
   "file_extension": ".py",
   "mimetype": "text/x-python",
   "name": "python",
   "nbconvert_exporter": "python",
   "pygments_lexer": "ipython3",
   "version": "3.9.1"
  }
 },
 "nbformat": 4,
 "nbformat_minor": 4
}
